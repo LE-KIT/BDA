{
 "cells": [
  {
   "cell_type": "code",
   "execution_count": 3,
   "metadata": {},
   "outputs": [],
   "source": [
    "import numpy as np\n",
    "import pandas as pd\n",
    "import os\n",
    "import re\n",
    "from datetime import timedelta\n",
    "from datetime import datetime"
   ]
  },
  {
   "cell_type": "code",
   "execution_count": 4,
   "metadata": {},
   "outputs": [],
   "source": [
    "def read_data_stromfluss(data_dir):\n",
    "    \"\"\"Read data from directory, get rid of '-' and NaN values, export a dataframe\"\"\"\n",
    "\n",
    "    dateparse = lambda x: pd.datetime.strptime(x, '%d.%m.%Y')\n",
    "    numberparse = lambda x: pd.np.float(x.replace(\".\", \"\").replace(\",\", \".\")) if x != \"-\" else np.nan\n",
    "    convert_thousand = {num: numberparse for num in np.arange(2, 22)}\n",
    "\n",
    "    import_files = os.listdir(data_dir)\n",
    "\n",
    "    for i in range(len(import_files)):\n",
    "        if i == 0:\n",
    "            df = pd.read_csv(os.path.join(data_dir, import_files[i]), sep=';', decimal=',', thousands='.',\n",
    "                             parse_dates=['Datum'], date_parser=dateparse, converters=convert_thousand)\n",
    "        else:\n",
    "            df = df.append(pd.read_csv(os.path.join(data_dir, import_files[i]), sep=';', decimal=',', thousands='.',\n",
    "                                       parse_dates=['Datum'], date_parser=dateparse, converters=convert_thousand))\n",
    "\n",
    "    df.replace('-', 0, inplace=True)\n",
    "    df.fillna(0, inplace=True)\n",
    "\n",
    "    return df\n",
    "\n",
    "def _create_datetime(row):\n",
    "    \"\"\"Helper Function\n",
    "\n",
    "    Parameters\n",
    "    ----------\n",
    "    row : TYPE\n",
    "        Description\n",
    "    row : pd.Series\n",
    "\n",
    "    Returns\n",
    "    -------\n",
    "    pd.Datetime\n",
    "    \"\"\"\n",
    "    date = row.Datum.strftime(\"%Y-%m-%d\") + \" \" + row.Uhrzeit\n",
    "    return date\n",
    "\n",
    "def preprocessing_stromfluss(df, basic = False):\n",
    "    \"\"\"Preprocessing für stromfluss Datansatz von Smard\n",
    "\n",
    "    Parameters\n",
    "    ----------\n",
    "    df : pd.DataFrame\n",
    "        stromfluss Datensatz von SMARD eingelesen und unbearbeitet\n",
    "\n",
    "    Returns\n",
    "    -------\n",
    "    pd.DataFrame\n",
    "        stromfluss Datensatz von SMARD aufbereitet zur weiteren Verwendung\n",
    "    \"\"\"\n",
    "\n",
    "    # Time Formatting\n",
    "    df[\"Date\"] = df.apply(lambda row: _create_datetime(row), axis=1)\n",
    "    df[\"Date\"] = pd.to_datetime(df.Date, format=\"%Y-%m-%d %H:%M\")\n",
    "    df = df.sort_values(\"Date\")\n",
    "\n",
    "    cols = list(df)\n",
    "    cols.insert(0, cols.pop(cols.index(\"Date\")))\n",
    "    df = df.loc[:, cols]\n",
    "\n",
    "    # Rename columns\n",
    "    countries = {\n",
    "        \"Niederlande\": \"NL\",\n",
    "        \"Schweiz\": \"CHE\",\n",
    "        \"Dänemark\": \"DNK\",\n",
    "        \"Tschechien\": \"CZE\",\n",
    "        \"Luxemburg\": \"LUX\",\n",
    "        \"Schweden\": \"SWE\",\n",
    "        \"Österreich\": \"AUT\",\n",
    "        \"Frankreich\": \"FRA\",\n",
    "        \"Polen\": \"PL\",\n",
    "    }\n",
    "\n",
    "    types = {\"Import\": \"IM\", \"Export\": \"EX\"}\n",
    "\n",
    "    type_pattern = r\"\\((.*?)\\)\"\n",
    "    country_pattern = r\"(.*?) \"\n",
    "\n",
    "    df.columns = list(df.columns[0:3]) + ['NX'] + [countries.get(re.search(country_pattern, col).group(1))+ \"_\"+ types.get(re.search(type_pattern, col).group(1)) for col in df.columns[4::]]\n",
    "\n",
    "    # Netto Export\n",
    "    df[\"NX\"] = df.iloc[:, 4:].sum(axis = 1)\n",
    "    \n",
    "    #Drop columns\n",
    "    df.drop(df.columns[1:3], axis=1, inplace = True)\n",
    "\n",
    "    #Export only Datetime and NX for basic analysis\n",
    "    if basic:\n",
    "        df = df[['Date', 'NX']]\n",
    "\n",
    "    return df\n",
    "\n",
    "def get_training_sets(df: object, training_window_width: int, evaluation_days: list)->list:\n",
    "    '''\n",
    "    Provides a list containing pairs of training and validation sets for time series forecasts such as ARIMA. Validation is always done on all hours of a single day.\n",
    "    :param df: pandas.DataFrame containing the time series data\n",
    "    :param training_window_width: training window width in days. window width stays fix over validations\n",
    "    :param evaluation_days: list of days on which to perform validations\n",
    "    :return: list of evaluation sets\n",
    "    '''\n",
    "\n",
    "    evaluation_sets = []\n",
    "\n",
    "    # Split the dataframe in training and evaluation data\n",
    "    for day in evaluation_days:\n",
    "        training_data = df[(df.index.date >((day - timedelta(days=training_window_width)).date()) & df.index.date < day.date())]\n",
    "        evaluation_data = df[df.index.date == day.date()]\n",
    "\n",
    "        evaluation_sets.append({\"training_data\": training_data, \"evaluation_data\": evaluation_data})\n",
    "\n",
    "    return evaluation_sets"
   ]
  },
  {
   "cell_type": "code",
   "execution_count": 5,
   "metadata": {},
   "outputs": [
    {
     "data": {
      "text/html": [
       "<div>\n",
       "<style scoped>\n",
       "    .dataframe tbody tr th:only-of-type {\n",
       "        vertical-align: middle;\n",
       "    }\n",
       "\n",
       "    .dataframe tbody tr th {\n",
       "        vertical-align: top;\n",
       "    }\n",
       "\n",
       "    .dataframe thead th {\n",
       "        text-align: right;\n",
       "    }\n",
       "</style>\n",
       "<table border=\"1\" class=\"dataframe\">\n",
       "  <thead>\n",
       "    <tr style=\"text-align: right;\">\n",
       "      <th></th>\n",
       "      <th>NX</th>\n",
       "    </tr>\n",
       "    <tr>\n",
       "      <th>Date</th>\n",
       "      <th></th>\n",
       "    </tr>\n",
       "  </thead>\n",
       "  <tbody>\n",
       "    <tr>\n",
       "      <th>2015-06-01 00:00:00</th>\n",
       "      <td>7279.0</td>\n",
       "    </tr>\n",
       "    <tr>\n",
       "      <th>2015-06-01 01:00:00</th>\n",
       "      <td>7167.0</td>\n",
       "    </tr>\n",
       "    <tr>\n",
       "      <th>2015-06-01 02:00:00</th>\n",
       "      <td>6667.0</td>\n",
       "    </tr>\n",
       "    <tr>\n",
       "      <th>2015-06-01 03:00:00</th>\n",
       "      <td>6413.0</td>\n",
       "    </tr>\n",
       "    <tr>\n",
       "      <th>2015-06-01 04:00:00</th>\n",
       "      <td>5347.0</td>\n",
       "    </tr>\n",
       "  </tbody>\n",
       "</table>\n",
       "</div>"
      ],
      "text/plain": [
       "                         NX\n",
       "Date                       \n",
       "2015-06-01 00:00:00  7279.0\n",
       "2015-06-01 01:00:00  7167.0\n",
       "2015-06-01 02:00:00  6667.0\n",
       "2015-06-01 03:00:00  6413.0\n",
       "2015-06-01 04:00:00  5347.0"
      ]
     },
     "execution_count": 5,
     "metadata": {},
     "output_type": "execute_result"
    }
   ],
   "source": [
    "df = read_data_stromfluss(\"../data/stromfluss\")\n",
    "df = preprocessing_stromfluss(df, True)\n",
    "df=df.set_index(\"Date\")\n",
    "df.head()"
   ]
  },
  {
   "cell_type": "code",
   "execution_count": 6,
   "metadata": {},
   "outputs": [
    {
     "data": {
      "text/html": [
       "<div>\n",
       "<style scoped>\n",
       "    .dataframe tbody tr th:only-of-type {\n",
       "        vertical-align: middle;\n",
       "    }\n",
       "\n",
       "    .dataframe tbody tr th {\n",
       "        vertical-align: top;\n",
       "    }\n",
       "\n",
       "    .dataframe thead th {\n",
       "        text-align: right;\n",
       "    }\n",
       "</style>\n",
       "<table border=\"1\" class=\"dataframe\">\n",
       "  <thead>\n",
       "    <tr style=\"text-align: right;\">\n",
       "      <th></th>\n",
       "      <th>NX</th>\n",
       "    </tr>\n",
       "    <tr>\n",
       "      <th>Date</th>\n",
       "      <th></th>\n",
       "    </tr>\n",
       "  </thead>\n",
       "  <tbody>\n",
       "    <tr>\n",
       "      <th>2018-01-31 19:00:00</th>\n",
       "      <td>5504.0</td>\n",
       "    </tr>\n",
       "    <tr>\n",
       "      <th>2018-01-31 20:00:00</th>\n",
       "      <td>6252.0</td>\n",
       "    </tr>\n",
       "    <tr>\n",
       "      <th>2018-01-31 21:00:00</th>\n",
       "      <td>8104.0</td>\n",
       "    </tr>\n",
       "    <tr>\n",
       "      <th>2018-01-31 22:00:00</th>\n",
       "      <td>8788.0</td>\n",
       "    </tr>\n",
       "    <tr>\n",
       "      <th>2018-01-31 23:00:00</th>\n",
       "      <td>9131.0</td>\n",
       "    </tr>\n",
       "  </tbody>\n",
       "</table>\n",
       "</div>"
      ],
      "text/plain": [
       "                         NX\n",
       "Date                       \n",
       "2018-01-31 19:00:00  5504.0\n",
       "2018-01-31 20:00:00  6252.0\n",
       "2018-01-31 21:00:00  8104.0\n",
       "2018-01-31 22:00:00  8788.0\n",
       "2018-01-31 23:00:00  9131.0"
      ]
     },
     "execution_count": 6,
     "metadata": {},
     "output_type": "execute_result"
    }
   ],
   "source": [
    "df2018 = df[(df.index.year == datetime(2018,1,1).year) & (df.index.month == datetime(2018,1,1).month)]\n",
    "df2018.tail()"
   ]
  },
  {
   "cell_type": "code",
   "execution_count": 7,
   "metadata": {},
   "outputs": [],
   "source": [
    "import statsmodels\n",
    "from sklearn.metrics import mean_squared_error\n",
    "import warnings\n",
    "from statsmodels.tsa.arima_model import ARIMA\n",
    "warnings.filterwarnings(\"ignore\")\n",
    "\n",
    "def evaluate_arima_model(X, arima_order, return_predictions=False):\n",
    "    test = X.iloc[-24:]\n",
    "    train = X.iloc[0:-24]\n",
    "    history = [x for x in train]\n",
    "    \n",
    "    model = ARIMA(history, order=arima_order)\n",
    "    model_fit = model.fit(disp=0)\n",
    "        \n",
    "    #make predictions\n",
    "    predictions = []\n",
    "    for t in range(len(test)):\n",
    "        yhat = model_fit.forecast()[0]\n",
    "        predictions.append(yhat)\n",
    "        # history.append(test[t])\n",
    "    # calculate out of sample error\n",
    "    error = mean_squared_error(test,predictions)\n",
    "    if(return_predictions):\n",
    "        return pd.DataFrame({\"predictions\":[x[0] for x in predictions], \"actual\":test})\n",
    "    else:\n",
    "        return error\n",
    "\n",
    "\n",
    "def evaluate_models(dataset, p_values, d_values, q_values):\n",
    "    dataset = dataset.astype('float32')\n",
    "    best_score, best_cfg = float(\"inf\"), None\n",
    "    for p in p_values:\n",
    "        for d in d_values:\n",
    "            for q in q_values:\n",
    "                order = (p,d,q)\n",
    "                try:\n",
    "                    mse = evaluate_arima_model(dataset, order)\n",
    "                    if mse < best_score:\n",
    "                        best_score, best_cfg = mse, order\n",
    "                    print('ARIMA%s MSE=%.3f' % (order,mse))\n",
    "                except:\n",
    "                    continue\n",
    "    print('Best ARIMA%s MSE=%.3f' % (best_cfg, best_score))\n"
   ]
  },
  {
   "cell_type": "markdown",
   "metadata": {},
   "source": [
    "Prepare Dataset"
   ]
  },
  {
   "cell_type": "code",
   "execution_count": 8,
   "metadata": {},
   "outputs": [],
   "source": [
    "import matplotlib.pyplot as plt\n",
    "import matplotlib"
   ]
  },
  {
   "cell_type": "code",
   "execution_count": 9,
   "metadata": {},
   "outputs": [
    {
     "data": {
      "text/plain": [
       "<matplotlib.axes._subplots.AxesSubplot at 0x20304466d30>"
      ]
     },
     "execution_count": 9,
     "metadata": {},
     "output_type": "execute_result"
    },
    {
     "data": {
      "image/png": "[encoded data removed]",
      "text/plain": [
       "<Figure size 432x288 with 1 Axes>"
      ]
     },
     "metadata": {
      "needs_background": "light"
     },
     "output_type": "display_data"
    }
   ],
   "source": [
    "df2018['NX'][~((df2018['NX']-df2018['NX'].mean()).abs() > 3*df2018['NX'].std())]\n",
    "df2018 = df2018.replace([np.inf, -np.inf], np.nan).dropna(how='all')\n",
    "df2018.plot()"
   ]
  },
  {
   "cell_type": "code",
   "execution_count": null,
   "metadata": {},
   "outputs": [
    {
     "name": "stdout",
     "output_type": "stream",
     "text": [
      "ARIMA(24, 0, 0) MSE=16070990.690\n",
      "ARIMA(24, 0, 1) MSE=15131270.594\n",
      "ARIMA(24, 0, 2) MSE=13938388.939\n",
      "ARIMA(24, 1, 0) MSE=11995514.716\n",
      "ARIMA(24, 1, 1) MSE=12344736.708\n",
      "ARIMA(24, 1, 2) MSE=12163402.937\n",
      "ARIMA(24, 2, 0) MSE=14008543.075\n"
     ]
    }
   ],
   "source": [
    "# evaluate parameters\n",
    "p_values = [24,48]\n",
    "d_values = range(0,3)\n",
    "q_values = range(0,3)\n",
    "evaluate_models(df2018['NX'], p_values, d_values, q_values)\n"
   ]
  },
  {
   "cell_type": "code",
   "execution_count": 11,
   "metadata": {},
   "outputs": [],
   "source": [
    "predictions = evaluate_arima_model(df2018['NX'], (0,0,0), True)"
   ]
  },
  {
   "cell_type": "code",
   "execution_count": null,
   "metadata": {},
   "outputs": [],
   "source": []
  },
  {
   "cell_type": "code",
   "execution_count": null,
   "metadata": {},
   "outputs": [],
   "source": []
  },
  {
   "cell_type": "code",
   "execution_count": null,
   "metadata": {},
   "outputs": [],
   "source": []
  }
 ],
 "metadata": {
  "kernelspec": {
   "display_name": "Python 3",
   "language": "python",
   "name": "python3"
  },
  "language_info": {
   "codemirror_mode": {
    "name": "ipython",
    "version": 3
   },
   "file_extension": ".py",
   "mimetype": "text/x-python",
   "name": "python",
   "nbconvert_exporter": "python",
   "pygments_lexer": "ipython3",
   "version": "3.6.8"
  }
 },
 "nbformat": 4,
 "nbformat_minor": 2
}
