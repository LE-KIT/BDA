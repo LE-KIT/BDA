{
 "cells": [
  {
   "cell_type": "code",
   "execution_count": 2,
   "metadata": {},
   "outputs": [
    {
     "name": "stderr",
     "output_type": "stream",
     "text": [
      "ERROR:fbprophet:Importing plotly failed. Interactive plots will not work.\n"
     ]
    }
   ],
   "source": [
    "import numpy as np\n",
    "import pandas as pd\n",
    "import os\n",
    "import re\n",
    "from datetime import timedelta\n",
    "from datetime import datetime\n",
    "from fbprophet import Prophet"
   ]
  },
  {
   "cell_type": "code",
   "execution_count": 62,
   "metadata": {},
   "outputs": [],
   "source": [
    "def read_data_stromfluss(data_dir):\n",
    "    \"\"\"Read data from directory, get rid of '-' and NaN values, export a dataframe\"\"\"\n",
    "\n",
    "    dateparse = lambda x: pd.datetime.strptime(x, '%d.%m.%Y')\n",
    "    numberparse = lambda x: pd.np.float(x.replace(\".\", \"\").replace(\",\", \".\")) if x != \"-\" else np.nan\n",
    "    convert_thousand = {num: numberparse for num in np.arange(2, 22)}\n",
    "\n",
    "    import_files = os.listdir(data_dir)\n",
    "\n",
    "    for i in range(len(import_files)):\n",
    "        if i == 0:\n",
    "            df = pd.read_csv(os.path.join(data_dir, import_files[i]), sep=';', decimal=',', thousands='.',\n",
    "                             parse_dates=['Datum'], date_parser=dateparse, converters=convert_thousand)\n",
    "        else:\n",
    "            df = df.append(pd.read_csv(os.path.join(data_dir, import_files[i]), sep=';', decimal=',', thousands='.',\n",
    "                                       parse_dates=['Datum'], date_parser=dateparse, converters=convert_thousand))\n",
    "\n",
    "    df.replace('-', 0, inplace=True)\n",
    "    df.fillna(0, inplace=True)\n",
    "\n",
    "    return df\n",
    "\n",
    "def _create_datetime(row):\n",
    "    \"\"\"Helper Function\n",
    "\n",
    "    Parameters\n",
    "    ----------\n",
    "    row : TYPE\n",
    "        Description\n",
    "    row : pd.Series\n",
    "\n",
    "    Returns\n",
    "    -------\n",
    "    pd.Datetime\n",
    "    \"\"\"\n",
    "    if(\"Datum\" in row):\n",
    "        date = row.Datum.strftime(\"%Y-%m-%d\") + \" \" + row.Uhrzeit\n",
    "        return date\n",
    "\n",
    "def preprocessing_stromfluss(df, basic = False):\n",
    "    \"\"\"Preprocessing für stromfluss Datansatz von Smard\n",
    "\n",
    "    Parameters\n",
    "    ----------\n",
    "    df : pd.DataFrame\n",
    "        stromfluss Datensatz von SMARD eingelesen und unbearbeitet\n",
    "\n",
    "    Returns\n",
    "    -------\n",
    "    pd.DataFrame\n",
    "        stromfluss Datensatz von SMARD aufbereitet zur weiteren Verwendung\n",
    "    \"\"\"\n",
    "\n",
    "    # Time Formatting\n",
    "    df[\"Date\"] = df.apply(lambda row: _create_datetime(row), axis=1)\n",
    "    df[\"Date\"] = pd.to_datetime(df.Date, format=\"%Y-%m-%d %H:%M\")\n",
    "    df = df.sort_values(\"Date\")\n",
    "\n",
    "    cols = list(df)\n",
    "    cols.insert(0, cols.pop(cols.index(\"Date\")))\n",
    "    df = df.loc[:, cols]\n",
    "\n",
    "    # Rename columns\n",
    "    countries = {\n",
    "        \"Niederlande\": \"NL\",\n",
    "        \"Schweiz\": \"CHE\",\n",
    "        \"Dänemark\": \"DNK\",\n",
    "        \"Tschechien\": \"CZE\",\n",
    "        \"Luxemburg\": \"LUX\",\n",
    "        \"Schweden\": \"SWE\",\n",
    "        \"Österreich\": \"AUT\",\n",
    "        \"Frankreich\": \"FRA\",\n",
    "        \"Polen\": \"PL\",\n",
    "    }\n",
    "\n",
    "    types = {\"Import\": \"IM\", \"Export\": \"EX\"}\n",
    "\n",
    "    type_pattern = r\"\\((.*?)\\)\"\n",
    "    country_pattern = r\"(.*?) \"\n",
    "\n",
    "    df.columns = list(df.columns[0:3]) + ['NX'] + [countries.get(re.search(country_pattern, col).group(1))+ \"_\"+ types.get(re.search(type_pattern, col).group(1)) for col in df.columns[4::]]\n",
    "\n",
    "    # Netto Export\n",
    "    df[\"NX\"] = df.iloc[:, 4:].sum(axis = 1)\n",
    "    \n",
    "    #Drop columns\n",
    "    df.drop(df.columns[1:3], axis=1, inplace = True)\n",
    "\n",
    "    #Export only Datetime and NX for basic analysis\n",
    "    if basic:\n",
    "        df = df[['Date', 'NX']]\n",
    "\n",
    "    return df\n",
    "\n",
    "def get_training_sets(df: object, training_window_width: int, evaluation_days: list)->list:\n",
    "    '''\n",
    "    Provides a list containing pairs of training and validation sets for time series forecasts such as ARIMA. Validation is always done on all hours of a single day.\n",
    "    :param df: pandas.DataFrame containing the time series data\n",
    "    :param training_window_width: training window width in days. window width stays fix over validations\n",
    "    :param evaluation_days: list of days on which to perform validations\n",
    "    :return: list of evaluation sets\n",
    "    '''\n",
    "\n",
    "    evaluation_sets = []\n",
    "\n",
    "    # Split the dataframe in training and evaluation data\n",
    "    for day in evaluation_days:\n",
    "        training_data = df[(df.index.date >((day - timedelta(days=training_window_width)).date()) & df.index.date < day.date())]\n",
    "        evaluation_data = df[df.index.date == day.date()]\n",
    "\n",
    "        evaluation_sets.append({\"training_data\": training_data, \"evaluation_data\": evaluation_data})\n",
    "\n",
    "    return evaluation_sets"
   ]
  },
  {
   "cell_type": "code",
   "execution_count": 4,
   "metadata": {},
   "outputs": [],
   "source": [
    "df = read_data_stromfluss(\"../data/stromfluss\")\n",
    "df = preprocessing_stromfluss(df, True)\n",
    "df=df.rename(index=str, columns={\"Date\":\"ds\", \"NX\":\"y\"})"
   ]
  },
  {
   "cell_type": "code",
   "execution_count": 5,
   "metadata": {},
   "outputs": [
    {
     "name": "stderr",
     "output_type": "stream",
     "text": [
      "C:\\Users\\Laurin\\Anaconda3\\envs\\bda\\lib\\site-packages\\pystan\\misc.py:399: FutureWarning: Conversion of the second argument of issubdtype from `float` to `np.floating` is deprecated. In future, it will be treated as `np.float64 == np.dtype(float).type`.\n",
      "  elif np.issubdtype(np.asarray(v).dtype, float):\n"
     ]
    },
    {
     "data": {
      "text/plain": [
       "<fbprophet.forecaster.Prophet at 0x12e344562b0>"
      ]
     },
     "execution_count": 5,
     "metadata": {},
     "output_type": "execute_result"
    }
   ],
   "source": [
    "m = Prophet()\n",
    "m.fit(df)"
   ]
  },
  {
   "cell_type": "code",
   "execution_count": 6,
   "metadata": {},
   "outputs": [],
   "source": [
    "future = pd.DataFrame({\"ds\": pd.date_range(start=datetime(2018,1,31,0,0,0), end=datetime(2018,1,31,23,0,0), freq=\"1H\")})\n"
   ]
  },
  {
   "cell_type": "code",
   "execution_count": 7,
   "metadata": {},
   "outputs": [
    {
     "data": {
      "text/html": [
       "<div>\n",
       "<style scoped>\n",
       "    .dataframe tbody tr th:only-of-type {\n",
       "        vertical-align: middle;\n",
       "    }\n",
       "\n",
       "    .dataframe tbody tr th {\n",
       "        vertical-align: top;\n",
       "    }\n",
       "\n",
       "    .dataframe thead th {\n",
       "        text-align: right;\n",
       "    }\n",
       "</style>\n",
       "<table border=\"1\" class=\"dataframe\">\n",
       "  <thead>\n",
       "    <tr style=\"text-align: right;\">\n",
       "      <th></th>\n",
       "      <th>ds</th>\n",
       "      <th>yhat</th>\n",
       "      <th>yhat_lower</th>\n",
       "      <th>yhat_upper</th>\n",
       "    </tr>\n",
       "  </thead>\n",
       "  <tbody>\n",
       "    <tr>\n",
       "      <th>19</th>\n",
       "      <td>2018-01-31 19:00:00</td>\n",
       "      <td>5274.294164</td>\n",
       "      <td>-11765.160115</td>\n",
       "      <td>23136.590760</td>\n",
       "    </tr>\n",
       "    <tr>\n",
       "      <th>20</th>\n",
       "      <td>2018-01-31 20:00:00</td>\n",
       "      <td>5502.755643</td>\n",
       "      <td>-12390.405371</td>\n",
       "      <td>22688.098032</td>\n",
       "    </tr>\n",
       "    <tr>\n",
       "      <th>21</th>\n",
       "      <td>2018-01-31 21:00:00</td>\n",
       "      <td>6428.547996</td>\n",
       "      <td>-12009.108337</td>\n",
       "      <td>23669.564731</td>\n",
       "    </tr>\n",
       "    <tr>\n",
       "      <th>22</th>\n",
       "      <td>2018-01-31 22:00:00</td>\n",
       "      <td>7522.955360</td>\n",
       "      <td>-8396.041387</td>\n",
       "      <td>24308.581211</td>\n",
       "    </tr>\n",
       "    <tr>\n",
       "      <th>23</th>\n",
       "      <td>2018-01-31 23:00:00</td>\n",
       "      <td>8281.732429</td>\n",
       "      <td>-9810.787485</td>\n",
       "      <td>24949.201673</td>\n",
       "    </tr>\n",
       "  </tbody>\n",
       "</table>\n",
       "</div>"
      ],
      "text/plain": [
       "                    ds         yhat    yhat_lower    yhat_upper\n",
       "19 2018-01-31 19:00:00  5274.294164 -11765.160115  23136.590760\n",
       "20 2018-01-31 20:00:00  5502.755643 -12390.405371  22688.098032\n",
       "21 2018-01-31 21:00:00  6428.547996 -12009.108337  23669.564731\n",
       "22 2018-01-31 22:00:00  7522.955360  -8396.041387  24308.581211\n",
       "23 2018-01-31 23:00:00  8281.732429  -9810.787485  24949.201673"
      ]
     },
     "execution_count": 7,
     "metadata": {},
     "output_type": "execute_result"
    }
   ],
   "source": [
    "forecast = m.predict(future)\n",
    "forecast[['ds', 'yhat', 'yhat_lower', 'yhat_upper']].tail()"
   ]
  },
  {
   "cell_type": "code",
   "execution_count": 8,
   "metadata": {},
   "outputs": [
    {
     "data": {
      "text/plain": [
       "<matplotlib.axes._subplots.AxesSubplot at 0x12e34d0e668>"
      ]
     },
     "execution_count": 8,
     "metadata": {},
     "output_type": "execute_result"
    },
    {
     "data": {
      "image/png": "[encoded data removed]",
      "text/plain": [
       "<Figure size 432x288 with 1 Axes>"
      ]
     },
     "metadata": {
      "needs_background": "light"
     },
     "output_type": "display_data"
    }
   ],
   "source": [
    "predictions=forecast.merge(df)[['ds','yhat','y']]\n",
    "predictions[['y','yhat']].plot()"
   ]
  },
  {
   "cell_type": "code",
   "execution_count": 65,
   "metadata": {},
   "outputs": [
    {
     "name": "stdout",
     "output_type": "stream",
     "text": [
      "Import File: DE_Großhandelspreise_201506010000_201706012359_1.csv \n",
      "Import File: DE_Großhandelspreise_201706010000_201906012359_1.csv \n"
     ]
    }
   ],
   "source": [
    "import os\n",
    "\n",
    "dateparse = lambda x: pd.datetime.strptime(x, '%d.%m.%Y')\n",
    "numberparse = lambda x: pd.np.float(x.replace(\".\", \"\").replace(\",\",\".\")) if x!=\"-\" else np.nan\n",
    "convert_thousand = { num:numberparse   for num in np.arange(2,22)}\n",
    "\n",
    "import_files = os.listdir(\"../data/Strompreise/\")\n",
    "\n",
    "\n",
    "\n",
    "for idx , file in enumerate(import_files):\n",
    "    print(\"Import File: {} \".format(file))\n",
    "    PATH = \"../data/Strompreise/\" + file\n",
    "    if idx>0:\n",
    "        df2 = pd.read_csv(PATH,\n",
    "            sep=r\";\",\n",
    "            decimal=r\",\",\n",
    "            thousands=r\".\",\n",
    "            converters = convert_thousand,\n",
    "            parse_dates=['Datum'],\n",
    "            date_parser = dateparse)\n",
    "        df_price = df_price.append(df2)\n",
    "    else:\n",
    "        df_price = pd.read_csv(PATH,\n",
    "            sep=r\";\",\n",
    "            decimal=r\",\",\n",
    "            thousands=r\".\",\n",
    "            converters = convert_thousand,\n",
    "            parse_dates=['Datum'],\n",
    "            date_parser = dateparse)\n",
    "del df2\n",
    "\n",
    "df_price['Date'] = df_price.apply(lambda row: _create_datetime(row), axis=1) \n",
    "df_price['Date'] = pd.to_datetime(df_price.Date,format=\"%Y-%m-%d %H:%M\")\n",
    "df_price = df_price.sort_values('Date').reset_index(drop=True)\n",
    "\n",
    "cols = list(df_price)\n",
    "cols.insert(0, cols.pop(cols.index('Date')))\n",
    "df_price = df_price.loc[:, cols]\n",
    "df_price.drop(['Uhrzeit', \"Datum\"],axis=1,inplace=True)\n",
    "\n",
    "delete_currency = r\"(.*?)\\[\"\n",
    "\n",
    "\n"
   ]
  },
  {
   "cell_type": "code",
   "execution_count": 67,
   "metadata": {},
   "outputs": [
    {
     "data": {
      "text/plain": [
       "Date                                          2015-06-01 02:00:00\n",
       "Deutschland/Luxemburg[Euro/MWh]                               NaN\n",
       "Dänemark 1[Euro/MWh]                                         9.83\n",
       "Dänemark 2[Euro/MWh]                                         9.83\n",
       "Frankreich[Euro/MWh]                                        14.39\n",
       "Italien (Nord)[Euro/MWh]                                    40.83\n",
       "Niederlande[Euro/MWh]                                       28.78\n",
       "Polen[Euro/MWh]                                               NaN\n",
       "Schweden 4[Euro/MWh]                                         9.83\n",
       "Schweiz[Euro/MWh]                                           16.71\n",
       "Slowenien[Euro/MWh]                                          12.5\n",
       "Tschechien[Euro/MWh]                                         16.5\n",
       "Ungarn[Euro/MWh]                                             16.5\n",
       "Österreich[Euro/MWh]                                          NaN\n",
       "Deutschland/Österreich/Luxemburg[Euro/MWh]                  11.16\n",
       "Name: 2, dtype: object"
      ]
     },
     "execution_count": 67,
     "metadata": {},
     "output_type": "execute_result"
    }
   ],
   "source": [
    "def _unite_germany(row):\n",
    "    if(row[2] == np.nan):\n",
    "        print(\"!\")\n",
    "        break\n",
    "\n",
    "df_price.apply(lambda row: )"
   ]
  },
  {
   "cell_type": "code",
   "execution_count": null,
   "metadata": {},
   "outputs": [],
   "source": []
  }
 ],
 "metadata": {
  "kernelspec": {
   "display_name": "Python 3",
   "language": "python",
   "name": "python3"
  },
  "language_info": {
   "codemirror_mode": {
    "name": "ipython",
    "version": 3
   },
   "file_extension": ".py",
   "mimetype": "text/x-python",
   "name": "python",
   "nbconvert_exporter": "python",
   "pygments_lexer": "ipython3",
   "version": "3.6.8"
  }
 },
 "nbformat": 4,
 "nbformat_minor": 2
}
