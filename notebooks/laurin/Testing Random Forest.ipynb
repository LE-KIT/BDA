{
 "cells": [
  {
   "cell_type": "code",
   "execution_count": 2,
   "metadata": {},
   "outputs": [],
   "source": [
    "from sklearn.ensemble import RandomForestRegressor\n",
    "from sklearn.datasets import make_regression\n",
    "import pandas as pd\n",
    "import numpy as np\n",
    "import os\n",
    "import re"
   ]
  },
  {
   "cell_type": "code",
   "execution_count": null,
   "metadata": {},
   "outputs": [],
   "source": []
  },
  {
   "cell_type": "code",
   "execution_count": 3,
   "metadata": {},
   "outputs": [],
   "source": [
    "def prepare_stromfluesse(path_to_data_storage):\n",
    "    \n",
    "    dateparse = lambda x: pd.datetime.strptime(x, '%d.%m.%Y')\n",
    "    numberparse = lambda x: pd.np.float(x.replace(\".\", \"\").replace(\",\",\".\")) if x!=\"-\" else np.nan\n",
    "    convert_thousand = { num:numberparse   for num in np.arange(2,22)}\n",
    "    \n",
    "    import_files = os.listdir(path_to_data_storage)\n",
    "\n",
    "    for idx , file in enumerate(import_files):\n",
    "        print(\"Import File: {} \".format(file))\n",
    "        PATH = path_to_data_storage + file\n",
    "        if idx>0:\n",
    "            df2 = pd.read_csv(PATH,\n",
    "                sep=r\";\",\n",
    "                decimal=r\",\",\n",
    "                thousands=r\".\",\n",
    "                converters = convert_thousand,\n",
    "                parse_dates=['Datum'],\n",
    "                date_parser = dateparse )\n",
    "            df = df.append(df2)\n",
    "        else:\n",
    "            df = pd.read_csv(PATH,\n",
    "                sep=r\";\",\n",
    "                decimal=r\",\",\n",
    "                thousands=r\".\",\n",
    "                converters = convert_thousand,\n",
    "                parse_dates=['Datum'],\n",
    "                date_parser = dateparse)\n",
    "    \n",
    "    df['Date'] = df.apply(lambda row: _create_datetime(row), axis=1) \n",
    "    df['Date'] = pd.to_datetime(df.Date,format=\"%Y-%m-%d %H:%M\")\n",
    "    df = df.sort_values('Date').reset_index(drop=True)\n",
    "\n",
    "    cols = list(df)\n",
    "    cols.insert(0, cols.pop(cols.index('Date')))\n",
    "    df = df.loc[:, cols]\n",
    "    df.drop(['Uhrzeit'],axis=1,inplace=True)\n",
    "    \n",
    "    type_pattern = r\"\\((.*?)\\)\"\n",
    "    country_pattern = r\"(.*?) \"\n",
    "    countries = {\n",
    "    'Niederlande':'NL',\n",
    "    'Schweiz': 'CHE',\n",
    "    'Dänemark' : 'DNK',\n",
    "    'Tschechien' : 'CZE',\n",
    "    'Luxemburg' : 'LUX',\n",
    "    'Schweden' : 'SWE',\n",
    "    'Österreich' : 'AUT',\n",
    "    'Frankreich' : 'FRA',\n",
    "    'Polen' : 'PL'\n",
    "    } \n",
    "\n",
    "    types = {\n",
    "        'Import' : 'IM',\n",
    "        'Export' : 'EX'\n",
    "    }\n",
    "\n",
    "    new_columns = [countries.get(re.search(country_pattern,col).group(1)) + \n",
    "     \"_\" + \n",
    "     types.get(re.search(type_pattern,col).group(1))\n",
    "     for col in df.columns[3::]]\n",
    "    new_columns.insert(0,'Date')\n",
    "    new_columns.insert(1,'Tag')\n",
    "    new_columns.insert(2,'NX')\n",
    "    df.columns = new_columns\n",
    "    \n",
    "    df['NX'] = df.loc[:, 'NL_EX':'PL_IM'].sum(axis=1)\n",
    "    \n",
    "    df = df.fillna(0)\n",
    "    \n",
    "    for key,value in countries.items():\n",
    "        expo = value + \"_EX\"\n",
    "        impo = value + \"_IM\"\n",
    "        df[value] = df[expo] + df[impo]\n",
    "        df.drop([expo,impo],axis=1,inplace=True)\n",
    "\n",
    "    return df\n",
    "\n",
    "def _create_datetime(row):\n",
    "    date = row.Datum.strftime(\"%Y-%m-%d\") + \" \" + row.Uhrzeit\n",
    "    return date\n",
    "\n",
    "def prepare_strompreise(path_to_data_storage, aggregate=True):\n",
    "\n",
    "    dateparse = lambda x: pd.datetime.strptime(x, \"%d.%m.%Y\")\n",
    "    numberparse = (\n",
    "        lambda x: pd.np.float(x.replace(\".\", \"\").replace(\",\", \".\"))\n",
    "        if x != \"-\"\n",
    "        else np.nan\n",
    "    )\n",
    "    convert_thousand = {num: numberparse for num in np.arange(2, 22)}\n",
    "\n",
    "    import_files = os.listdir(path_to_data_storage)\n",
    "\n",
    "    for idx, file in enumerate(import_files):\n",
    "        print(\"Import File: {} \".format(file))\n",
    "        PATH = path_to_data_storage + file\n",
    "        if idx > 0:\n",
    "            df2 = pd.read_csv(\n",
    "                PATH,\n",
    "                sep=r\";\",\n",
    "                decimal=r\",\",\n",
    "                thousands=r\".\",\n",
    "                converters=convert_thousand,\n",
    "                parse_dates=[\"Datum\"],\n",
    "                date_parser=dateparse,\n",
    "            )\n",
    "            df_price = df_price.append(df2)\n",
    "        else:\n",
    "            df_price = pd.read_csv(\n",
    "                PATH,\n",
    "                sep=r\";\",\n",
    "                decimal=r\",\",\n",
    "                thousands=r\".\",\n",
    "                converters=convert_thousand,\n",
    "                parse_dates=[\"Datum\"],\n",
    "                date_parser=dateparse,\n",
    "            )\n",
    "\n",
    "    df_price[\"Date\"] = df_price.apply(lambda row: _create_datetime(row), axis=1)\n",
    "    df_price[\"Date\"] = pd.to_datetime(df_price.Date, format=\"%Y-%m-%d %H:%M\")\n",
    "    df_price = df_price.sort_values(\"Date\").reset_index(drop=True)\n",
    "\n",
    "    cols = list(df_price)\n",
    "    cols.insert(0, cols.pop(cols.index(\"Date\")))\n",
    "    df_price = df_price.loc[:, cols]\n",
    "    df_price.drop([\"Uhrzeit\"], axis=1, inplace=True)\n",
    "\n",
    "    delete_currency = r\"(.*?)\\[\"\n",
    "    new_columns = [\n",
    "        \"price_\" + re.search(delete_currency, col).group(1).lower()\n",
    "        for col in df_price.columns[2::]\n",
    "    ]\n",
    "    new_columns.insert(0, \"Date\")\n",
    "    new_columns.insert(1, \"Tag\")\n",
    "    df_price.columns = new_columns\n",
    "\n",
    "    df_price.fillna(df_price.mean(), inplace=True)\n",
    "\n",
    "    df_price_aggregated = pd.DataFrame(columns=df_price.columns[2::])\n",
    "\n",
    "    ind = 0\n",
    "    for name, df in df_price.groupby(\"Tag\"):\n",
    "        mean_price_day = df.iloc[:, 2::].mean()\n",
    "        df_price_aggregated = df_price_aggregated.append(\n",
    "            mean_price_day, ignore_index=True\n",
    "        )\n",
    "\n",
    "    df_price_aggregated.columns = [\n",
    "        \"daily_\" + col for col in df_price_aggregated.columns\n",
    "    ]\n",
    "\n",
    "    df_price_aggregated[\"Tag\"] = df_price.Tag.unique()\n",
    "\n",
    "    cols = list(df_price_aggregated)\n",
    "    cols.insert(0, cols.pop(cols.index(\"Tag\")))\n",
    "    df_price_aggregated = df_price_aggregated.loc[:, cols]\n",
    "\n",
    "    if aggregate == True:\n",
    "        return df_price_aggregated\n",
    "    else:\n",
    "        return df_price\n",
    "    \n"
   ]
  },
  {
   "cell_type": "code",
   "execution_count": 7,
   "metadata": {},
   "outputs": [
    {
     "name": "stdout",
     "output_type": "stream",
     "text": [
      "Import File: DE_Physikalischer_Stromfluss_201506010000_201706012359_1.csv \n",
      "Import File: DE_Physikalischer_Stromfluss_201706020000_201906022359_1.csv \n"
     ]
    },
    {
     "data": {
      "text/html": [
       "<div>\n",
       "<style scoped>\n",
       "    .dataframe tbody tr th:only-of-type {\n",
       "        vertical-align: middle;\n",
       "    }\n",
       "\n",
       "    .dataframe tbody tr th {\n",
       "        vertical-align: top;\n",
       "    }\n",
       "\n",
       "    .dataframe thead th {\n",
       "        text-align: right;\n",
       "    }\n",
       "</style>\n",
       "<table border=\"1\" class=\"dataframe\">\n",
       "  <thead>\n",
       "    <tr style=\"text-align: right;\">\n",
       "      <th></th>\n",
       "      <th>Date</th>\n",
       "      <th>Tag</th>\n",
       "      <th>NX</th>\n",
       "      <th>NL</th>\n",
       "      <th>CHE</th>\n",
       "      <th>DNK</th>\n",
       "      <th>CZE</th>\n",
       "      <th>LUX</th>\n",
       "      <th>SWE</th>\n",
       "      <th>AUT</th>\n",
       "      <th>FRA</th>\n",
       "      <th>PL</th>\n",
       "    </tr>\n",
       "  </thead>\n",
       "  <tbody>\n",
       "    <tr>\n",
       "      <th>0</th>\n",
       "      <td>2015-06-01 00:00:00</td>\n",
       "      <td>2015-06-01</td>\n",
       "      <td>7279.0</td>\n",
       "      <td>3932.0</td>\n",
       "      <td>145.0</td>\n",
       "      <td>-272.0</td>\n",
       "      <td>554.0</td>\n",
       "      <td>0.0</td>\n",
       "      <td>1.0</td>\n",
       "      <td>1394.0</td>\n",
       "      <td>246.0</td>\n",
       "      <td>1279.0</td>\n",
       "    </tr>\n",
       "    <tr>\n",
       "      <th>1</th>\n",
       "      <td>2015-06-01 01:00:00</td>\n",
       "      <td>2015-06-01</td>\n",
       "      <td>7167.0</td>\n",
       "      <td>4014.0</td>\n",
       "      <td>261.0</td>\n",
       "      <td>-141.0</td>\n",
       "      <td>469.0</td>\n",
       "      <td>0.0</td>\n",
       "      <td>1.0</td>\n",
       "      <td>1355.0</td>\n",
       "      <td>66.0</td>\n",
       "      <td>1142.0</td>\n",
       "    </tr>\n",
       "    <tr>\n",
       "      <th>2</th>\n",
       "      <td>2015-06-01 02:00:00</td>\n",
       "      <td>2015-06-01</td>\n",
       "      <td>6667.0</td>\n",
       "      <td>3864.0</td>\n",
       "      <td>103.0</td>\n",
       "      <td>-326.0</td>\n",
       "      <td>422.0</td>\n",
       "      <td>0.0</td>\n",
       "      <td>1.0</td>\n",
       "      <td>1574.0</td>\n",
       "      <td>-105.0</td>\n",
       "      <td>1134.0</td>\n",
       "    </tr>\n",
       "    <tr>\n",
       "      <th>3</th>\n",
       "      <td>2015-06-01 03:00:00</td>\n",
       "      <td>2015-06-01</td>\n",
       "      <td>6413.0</td>\n",
       "      <td>4242.0</td>\n",
       "      <td>42.0</td>\n",
       "      <td>-262.0</td>\n",
       "      <td>235.0</td>\n",
       "      <td>0.0</td>\n",
       "      <td>1.0</td>\n",
       "      <td>1271.0</td>\n",
       "      <td>-206.0</td>\n",
       "      <td>1090.0</td>\n",
       "    </tr>\n",
       "    <tr>\n",
       "      <th>4</th>\n",
       "      <td>2015-06-01 04:00:00</td>\n",
       "      <td>2015-06-01</td>\n",
       "      <td>5347.0</td>\n",
       "      <td>4292.0</td>\n",
       "      <td>-127.0</td>\n",
       "      <td>-582.0</td>\n",
       "      <td>161.0</td>\n",
       "      <td>0.0</td>\n",
       "      <td>1.0</td>\n",
       "      <td>1068.0</td>\n",
       "      <td>-549.0</td>\n",
       "      <td>1083.0</td>\n",
       "    </tr>\n",
       "  </tbody>\n",
       "</table>\n",
       "</div>"
      ],
      "text/plain": [
       "                 Date        Tag      NX      NL    CHE    DNK    CZE  LUX  \\\n",
       "0 2015-06-01 00:00:00 2015-06-01  7279.0  3932.0  145.0 -272.0  554.0  0.0   \n",
       "1 2015-06-01 01:00:00 2015-06-01  7167.0  4014.0  261.0 -141.0  469.0  0.0   \n",
       "2 2015-06-01 02:00:00 2015-06-01  6667.0  3864.0  103.0 -326.0  422.0  0.0   \n",
       "3 2015-06-01 03:00:00 2015-06-01  6413.0  4242.0   42.0 -262.0  235.0  0.0   \n",
       "4 2015-06-01 04:00:00 2015-06-01  5347.0  4292.0 -127.0 -582.0  161.0  0.0   \n",
       "\n",
       "   SWE     AUT    FRA      PL  \n",
       "0  1.0  1394.0  246.0  1279.0  \n",
       "1  1.0  1355.0   66.0  1142.0  \n",
       "2  1.0  1574.0 -105.0  1134.0  \n",
       "3  1.0  1271.0 -206.0  1090.0  \n",
       "4  1.0  1068.0 -549.0  1083.0  "
      ]
     },
     "execution_count": 7,
     "metadata": {},
     "output_type": "execute_result"
    }
   ],
   "source": [
    "df = prepare_stromfluesse(\"../../data/stromfluss/\")\n",
    "df.head()"
   ]
  },
  {
   "cell_type": "code",
   "execution_count": 9,
   "metadata": {},
   "outputs": [
    {
     "name": "stderr",
     "output_type": "stream",
     "text": [
      "C:\\Users\\Laurin\\Anaconda3\\envs\\bda\\lib\\site-packages\\ipykernel_launcher.py:10: DeprecationWarning: parsing timezone aware datetimes is deprecated; this will raise an error in the future\n",
      "  # Remove the CWD from sys.path while we load stuff.\n"
     ]
    }
   ],
   "source": [
    "# Spalten hinzufügen\n",
    "# Wochentag, Monat, Jahr, Zeitpunkt als Sekundenstempel\n",
    "# Lagging: Alle Datenpunkte aus dem Punkt davor\n",
    "# \n",
    "def split_datetime(df):\n",
    "    date_key = df.select_dtypes(include=[np.datetime64]).columns[0]\n",
    "    df['year']=df[date_key].apply(lambda x: x.year)\n",
    "    df['month']=df[date_key].apply(lambda x: x.month)\n",
    "    df['weekday']=df[date_key].apply(lambda x: x.isoweekday())\n",
    "    df['timestamp']=df[date_key].apply(lambda x:(x - np.datetime64('1970-01-01T00:00:00Z')) / np.timedelta64(1, 's'))\n",
    "    df['hour'] = df[date_key].apply(lambda x: x.hour)\n",
    "    df = df.drop(columns=[date_key])\n",
    "    return df\n",
    "\n",
    "def merge_datetime(df):\n",
    "    df['Date']=df['timestamp'].apply(lambda x: (x * np.timedelta64(1,'s') + np.datetime64('1970-01-01T00:00:00Z')))\n",
    "    df = df.drop(columns = [\"year\",\"month\",\"weekday\", \"timestamp\", \"hour\"])\n",
    "    return df\n",
    "\n",
    "df2 = split_datetime(df)\n"
   ]
  },
  {
   "cell_type": "code",
   "execution_count": 44,
   "metadata": {},
   "outputs": [
    {
     "data": {
      "text/plain": [
       "RandomForestRegressor(bootstrap=True, criterion='mse', max_depth=2,\n",
       "                      max_features='auto', max_leaf_nodes=None,\n",
       "                      min_impurity_decrease=0.0, min_impurity_split=None,\n",
       "                      min_samples_leaf=1, min_samples_split=2,\n",
       "                      min_weight_fraction_leaf=0.0, n_estimators=100,\n",
       "                      n_jobs=None, oob_score=False, random_state=0, verbose=0,\n",
       "                      warm_start=False)"
      ]
     },
     "execution_count": 44,
     "metadata": {},
     "output_type": "execute_result"
    }
   ],
   "source": [
    "X = df2[['year','month', 'weekday', 'hour', 'timestamp']]\n",
    "y = df2['NX']\n",
    "regr = RandomForestRegressor(max_depth=2, random_state=0, n_estimators=100)\n",
    "regr.fit(X,y)"
   ]
  },
  {
   "cell_type": "code",
   "execution_count": 47,
   "metadata": {},
   "outputs": [
    {
     "data": {
      "text/plain": [
       "array([4456.78051512, 4456.78051512, 4456.78051512, 4456.78051512,\n",
       "       4456.78051512, 4456.78051512, 4456.78051512, 4456.78051512,\n",
       "       4456.78051512, 4456.78051512, 4521.2671581 , 4521.2671581 ,\n",
       "       4521.2671581 , 4521.2671581 , 4521.2671581 , 4521.2671581 ,\n",
       "       4521.2671581 , 4379.46522531, 3761.23907853, 3674.22331984,\n",
       "       3674.22331984, 3674.22331984, 3674.22331984, 3674.22331984])"
      ]
     },
     "execution_count": 47,
     "metadata": {},
     "output_type": "execute_result"
    }
   ],
   "source": [
    "testing = df.iloc[-24:]\n",
    "prediction = regr.predict(testing[['year','month', 'weekday', 'hour', 'timestamp']])"
   ]
  },
  {
   "cell_type": "code",
   "execution_count": 49,
   "metadata": {},
   "outputs": [
    {
     "data": {
      "text/plain": [
       "<matplotlib.axes._subplots.AxesSubplot at 0x238789485c0>"
      ]
     },
     "execution_count": 49,
     "metadata": {},
     "output_type": "execute_result"
    },
    {
     "data": {
      "image/png": "[encoded data removed]",
      "text/plain": [
       "<Figure size 432x288 with 1 Axes>"
      ]
     },
     "metadata": {
      "needs_background": "light"
     },
     "output_type": "display_data"
    }
   ],
   "source": [
    "df_result = pd.DataFrame({\"prediction\":prediction, \"actual\":df.iloc[-24:]['NX']})\n",
    "df_result.plot()"
   ]
  },
  {
   "cell_type": "code",
   "execution_count": 34,
   "metadata": {},
   "outputs": [
    {
     "name": "stdout",
     "output_type": "stream",
     "text": [
      "0.06483614379668512\n"
     ]
    }
   ],
   "source": [
    "print(regr.score(X=df2.iloc[-1000:][['year','month','weekday','hour','timestamp']], y=df2.iloc[-1000:]['NX']))"
   ]
  },
  {
   "cell_type": "code",
   "execution_count": null,
   "metadata": {},
   "outputs": [],
   "source": []
  }
 ],
 "metadata": {
  "kernelspec": {
   "display_name": "Python 3",
   "language": "python",
   "name": "python3"
  },
  "language_info": {
   "codemirror_mode": {
    "name": "ipython",
    "version": 3
   },
   "file_extension": ".py",
   "mimetype": "text/x-python",
   "name": "python",
   "nbconvert_exporter": "python",
   "pygments_lexer": "ipython3",
   "version": "3.6.8"
  }
 },
 "nbformat": 4,
 "nbformat_minor": 2
}
