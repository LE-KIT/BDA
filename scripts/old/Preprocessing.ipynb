{
 "cells": [
  {
   "cell_type": "markdown",
   "metadata": {},
   "source": [
    "# Business Data Analytics - Challenge"
   ]
  },
  {
   "cell_type": "markdown",
   "metadata": {},
   "source": [
    "---"
   ]
  },
  {
   "cell_type": "markdown",
   "metadata": {},
   "source": [
    "## Package Import"
   ]
  },
  {
   "cell_type": "code",
   "execution_count": 2,
   "metadata": {},
   "outputs": [],
   "source": [
    "import pandas as pd\n",
    "import numpy as np\n",
    "import re\n",
    "import os\n",
    "\n",
    "\n",
    "import matplotlib.pyplot as plt\n",
    "from matplotlib.ticker import PercentFormatter\n"
   ]
  },
  {
   "cell_type": "markdown",
   "metadata": {},
   "source": [
    "---"
   ]
  },
  {
   "cell_type": "markdown",
   "metadata": {},
   "source": [
    "## Data Import"
   ]
  },
  {
   "cell_type": "code",
   "execution_count": 3,
   "metadata": {},
   "outputs": [],
   "source": [
    "dateparse = lambda x: pd.datetime.strptime(x, '%d.%m.%Y')\n",
    "numberparse = lambda x: pd.np.float(x.replace(\".\", \"\").replace(\",\",\".\")) if x!=\"-\" else np.nan\n",
    "convert_thousand = { num:numberparse   for num in np.arange(2,22)}"
   ]
  },
  {
   "cell_type": "code",
   "execution_count": 4,
   "metadata": {},
   "outputs": [
    {
     "name": "stdout",
     "output_type": "stream",
     "text": [
      "Import File: DE_Physikalischer_Stromfluss_201506010000_201706012359_1.csv \n",
      "Import File: DE_Physikalischer_Stromfluss_201706020000_201906022359_1.csv \n"
     ]
    }
   ],
   "source": [
    "import_files = os.listdir(\"data/Stromfluss/\")\n",
    "\n",
    "for idx , file in enumerate(import_files):\n",
    "    print(\"Import File: {} \".format(file))\n",
    "    PATH = \"data/Stromfluss/\" + file\n",
    "    if idx>0:\n",
    "        df2 = pd.read_csv(PATH,\n",
    "            sep=r\";\",\n",
    "            decimal=r\",\",\n",
    "            thousands=r\".\",\n",
    "            converters = convert_thousand,\n",
    "            parse_dates=['Datum'],\n",
    "            date_parser = dateparse )\n",
    "        df = df.append(df2)\n",
    "    else:\n",
    "        df = pd.read_csv(PATH,\n",
    "            sep=r\";\",\n",
    "            decimal=r\",\",\n",
    "            thousands=r\".\",\n",
    "            converters = convert_thousand,\n",
    "            parse_dates=['Datum'],\n",
    "            date_parser = dateparse)\n",
    "del df2"
   ]
  },
  {
   "cell_type": "code",
   "execution_count": 5,
   "metadata": {},
   "outputs": [
    {
     "data": {
      "text/html": [
       "<div>\n",
       "<style scoped>\n",
       "    .dataframe tbody tr th:only-of-type {\n",
       "        vertical-align: middle;\n",
       "    }\n",
       "\n",
       "    .dataframe tbody tr th {\n",
       "        vertical-align: top;\n",
       "    }\n",
       "\n",
       "    .dataframe thead th {\n",
       "        text-align: right;\n",
       "    }\n",
       "</style>\n",
       "<table border=\"1\" class=\"dataframe\">\n",
       "  <thead>\n",
       "    <tr style=\"text-align: right;\">\n",
       "      <th></th>\n",
       "      <th>Datum</th>\n",
       "      <th>Uhrzeit</th>\n",
       "      <th>Physikalischer Nettoexport[MWh]</th>\n",
       "      <th>Niederlande (Export)[MWh]</th>\n",
       "      <th>Niederlande (Import)[MWh]</th>\n",
       "      <th>Schweiz (Export)[MWh]</th>\n",
       "      <th>Schweiz (Import)[MWh]</th>\n",
       "      <th>Dänemark (Export)[MWh]</th>\n",
       "      <th>Dänemark (Import)[MWh]</th>\n",
       "      <th>Tschechien (Export)[MWh]</th>\n",
       "      <th>...</th>\n",
       "      <th>Luxemburg (Export)[MWh]</th>\n",
       "      <th>Luxemburg (Import)[MWh]</th>\n",
       "      <th>Schweden (Export)[MWh]</th>\n",
       "      <th>Schweden (Import)[MWh]</th>\n",
       "      <th>Österreich (Export)[MWh]</th>\n",
       "      <th>Österreich (Import)[MWh]</th>\n",
       "      <th>Frankreich (Export)[MWh]</th>\n",
       "      <th>Frankreich (Import)[MWh]</th>\n",
       "      <th>Polen (Export)[MWh]</th>\n",
       "      <th>Polen (Import)[MWh]</th>\n",
       "    </tr>\n",
       "  </thead>\n",
       "  <tbody>\n",
       "    <tr>\n",
       "      <th>0</th>\n",
       "      <td>2015-06-01</td>\n",
       "      <td>00:00</td>\n",
       "      <td>NaN</td>\n",
       "      <td>3932.0</td>\n",
       "      <td>-0.0</td>\n",
       "      <td>145.0</td>\n",
       "      <td>-0.0</td>\n",
       "      <td>113.0</td>\n",
       "      <td>-385.0</td>\n",
       "      <td>912.0</td>\n",
       "      <td>...</td>\n",
       "      <td>NaN</td>\n",
       "      <td>NaN</td>\n",
       "      <td>1.0</td>\n",
       "      <td>-0.0</td>\n",
       "      <td>1394.0</td>\n",
       "      <td>-0.0</td>\n",
       "      <td>246.0</td>\n",
       "      <td>-0.0</td>\n",
       "      <td>1279.0</td>\n",
       "      <td>-0.0</td>\n",
       "    </tr>\n",
       "    <tr>\n",
       "      <th>1</th>\n",
       "      <td>2015-06-01</td>\n",
       "      <td>01:00</td>\n",
       "      <td>NaN</td>\n",
       "      <td>4014.0</td>\n",
       "      <td>-0.0</td>\n",
       "      <td>261.0</td>\n",
       "      <td>-0.0</td>\n",
       "      <td>63.0</td>\n",
       "      <td>-204.0</td>\n",
       "      <td>839.0</td>\n",
       "      <td>...</td>\n",
       "      <td>NaN</td>\n",
       "      <td>NaN</td>\n",
       "      <td>1.0</td>\n",
       "      <td>-0.0</td>\n",
       "      <td>1355.0</td>\n",
       "      <td>-0.0</td>\n",
       "      <td>66.0</td>\n",
       "      <td>-0.0</td>\n",
       "      <td>1142.0</td>\n",
       "      <td>-0.0</td>\n",
       "    </tr>\n",
       "  </tbody>\n",
       "</table>\n",
       "<p>2 rows × 21 columns</p>\n",
       "</div>"
      ],
      "text/plain": [
       "       Datum Uhrzeit  Physikalischer Nettoexport[MWh]  \\\n",
       "0 2015-06-01   00:00                              NaN   \n",
       "1 2015-06-01   01:00                              NaN   \n",
       "\n",
       "   Niederlande (Export)[MWh]  Niederlande (Import)[MWh]  \\\n",
       "0                     3932.0                       -0.0   \n",
       "1                     4014.0                       -0.0   \n",
       "\n",
       "   Schweiz (Export)[MWh]  Schweiz (Import)[MWh]  Dänemark (Export)[MWh]  \\\n",
       "0                  145.0                   -0.0                   113.0   \n",
       "1                  261.0                   -0.0                    63.0   \n",
       "\n",
       "   Dänemark (Import)[MWh]  Tschechien (Export)[MWh]  ...  \\\n",
       "0                  -385.0                     912.0  ...   \n",
       "1                  -204.0                     839.0  ...   \n",
       "\n",
       "   Luxemburg (Export)[MWh]  Luxemburg (Import)[MWh]  Schweden (Export)[MWh]  \\\n",
       "0                      NaN                      NaN                     1.0   \n",
       "1                      NaN                      NaN                     1.0   \n",
       "\n",
       "   Schweden (Import)[MWh]  Österreich (Export)[MWh]  Österreich (Import)[MWh]  \\\n",
       "0                    -0.0                    1394.0                      -0.0   \n",
       "1                    -0.0                    1355.0                      -0.0   \n",
       "\n",
       "   Frankreich (Export)[MWh]  Frankreich (Import)[MWh]  Polen (Export)[MWh]  \\\n",
       "0                     246.0                      -0.0               1279.0   \n",
       "1                      66.0                      -0.0               1142.0   \n",
       "\n",
       "   Polen (Import)[MWh]  \n",
       "0                 -0.0  \n",
       "1                 -0.0  \n",
       "\n",
       "[2 rows x 21 columns]"
      ]
     },
     "execution_count": 5,
     "metadata": {},
     "output_type": "execute_result"
    }
   ],
   "source": [
    "df.head(2)"
   ]
  },
  {
   "cell_type": "markdown",
   "metadata": {},
   "source": [
    "---"
   ]
  },
  {
   "cell_type": "markdown",
   "metadata": {},
   "source": [
    "## Preprocessing"
   ]
  },
  {
   "cell_type": "markdown",
   "metadata": {},
   "source": [
    "#### Time"
   ]
  },
  {
   "cell_type": "code",
   "execution_count": 6,
   "metadata": {},
   "outputs": [],
   "source": [
    "def _create_datetime(row):\n",
    "    date = row.Datum.strftime(\"%Y-%m-%d\") + \" \" + row.Uhrzeit\n",
    "    return date"
   ]
  },
  {
   "cell_type": "code",
   "execution_count": 7,
   "metadata": {},
   "outputs": [],
   "source": [
    "df['Date'] = df.apply(lambda row: _create_datetime(row), axis=1) \n",
    "df['Date'] = pd.to_datetime(df.Date,format=\"%Y-%m-%d %H:%M\")\n",
    "df = df.sort_values('Date').reset_index(drop=True)\n",
    "\n",
    "cols = list(df)\n",
    "cols.insert(0, cols.pop(cols.index('Date')))\n",
    "df = df.loc[:, cols]\n",
    "df.drop(['Uhrzeit'],axis=1,inplace=True)"
   ]
  },
  {
   "cell_type": "markdown",
   "metadata": {},
   "source": [
    "#### Columns"
   ]
  },
  {
   "cell_type": "code",
   "execution_count": 8,
   "metadata": {},
   "outputs": [],
   "source": [
    "type_pattern = r\"\\((.*?)\\)\"\n",
    "country_pattern = r\"(.*?) \""
   ]
  },
  {
   "cell_type": "code",
   "execution_count": 9,
   "metadata": {},
   "outputs": [],
   "source": [
    "countries = {\n",
    "    'Niederlande':'NL',\n",
    "    'Schweiz': 'CHE',\n",
    "    'Dänemark' : 'DNK',\n",
    "    'Tschechien' : 'CZE',\n",
    "    'Luxemburg' : 'LUX',\n",
    "    'Schweden' : 'SWE',\n",
    "    'Österreich' : 'AUT',\n",
    "    'Frankreich' : 'FRA',\n",
    "    'Polen' : 'PL'\n",
    "} \n",
    "\n",
    "types = {\n",
    "    'Import' : 'IM',\n",
    "    'Export' : 'EX'\n",
    "}\n",
    "\n",
    "new_columns = [countries.get(re.search(country_pattern,col).group(1)) + \n",
    " \"_\" + \n",
    " types.get(re.search(type_pattern,col).group(1))\n",
    " for col in df.columns[3::]]\n",
    "new_columns.insert(0,'Date')\n",
    "new_columns.insert(1,'Tag')\n",
    "new_columns.insert(2,'NX')\n",
    "\n",
    "df.columns = new_columns"
   ]
  },
  {
   "cell_type": "markdown",
   "metadata": {},
   "source": [
    "#### NX"
   ]
  },
  {
   "cell_type": "code",
   "execution_count": 10,
   "metadata": {},
   "outputs": [],
   "source": [
    "export_columns = [col for col in df.columns if col[-2::]=='EX' ]\n",
    "import_columns = [col for col in df.columns if col[-2::]=='IM' ]"
   ]
  },
  {
   "cell_type": "code",
   "execution_count": 11,
   "metadata": {},
   "outputs": [
    {
     "data": {
      "text/plain": [
       "Index(['Date', 'Tag', 'NX', 'NL_EX', 'NL_IM', 'CHE_EX', 'CHE_IM', 'DNK_EX',\n",
       "       'DNK_IM', 'CZE_EX', 'CZE_IM', 'LUX_EX', 'LUX_IM', 'SWE_EX', 'SWE_IM',\n",
       "       'AUT_EX', 'AUT_IM', 'FRA_EX', 'FRA_IM', 'PL_EX', 'PL_IM'],\n",
       "      dtype='object')"
      ]
     },
     "execution_count": 11,
     "metadata": {},
     "output_type": "execute_result"
    }
   ],
   "source": [
    "df.columns"
   ]
  },
  {
   "cell_type": "code",
   "execution_count": 12,
   "metadata": {},
   "outputs": [],
   "source": [
    "df['NX'] = df.loc[:, 'NL_EX':'PL_IM'].sum(axis=1)"
   ]
  },
  {
   "cell_type": "markdown",
   "metadata": {},
   "source": [
    "#### Fill Nones"
   ]
  },
  {
   "cell_type": "code",
   "execution_count": 13,
   "metadata": {},
   "outputs": [],
   "source": [
    "df = df.fillna(0)"
   ]
  },
  {
   "cell_type": "markdown",
   "metadata": {},
   "source": [
    "---"
   ]
  },
  {
   "cell_type": "markdown",
   "metadata": {},
   "source": [
    "# Strompreise"
   ]
  },
  {
   "cell_type": "code",
   "execution_count": 59,
   "metadata": {},
   "outputs": [],
   "source": [
    "import_files = os.listdir(\"data/Strompreise/\")"
   ]
  },
  {
   "cell_type": "code",
   "execution_count": 60,
   "metadata": {},
   "outputs": [
    {
     "data": {
      "text/plain": [
       "['DE_Großhandelspreise_201706010000_201906012359_1.csv',\n",
       " 'DE_Großhandelspreise_201506010000_201706012359_1.csv']"
      ]
     },
     "execution_count": 60,
     "metadata": {},
     "output_type": "execute_result"
    }
   ],
   "source": [
    "import_files"
   ]
  },
  {
   "cell_type": "code",
   "execution_count": 61,
   "metadata": {},
   "outputs": [
    {
     "name": "stdout",
     "output_type": "stream",
     "text": [
      "Import File: DE_Großhandelspreise_201706010000_201906012359_1.csv \n",
      "Import File: DE_Großhandelspreise_201506010000_201706012359_1.csv \n"
     ]
    }
   ],
   "source": [
    "for idx , file in enumerate(import_files):\n",
    "    print(\"Import File: {} \".format(file))\n",
    "    PATH = \"data/Strompreise/\" + file\n",
    "    if idx>0:\n",
    "        df2 = pd.read_csv(PATH,\n",
    "            sep=r\";\",\n",
    "            decimal=r\",\",\n",
    "            thousands=r\".\",\n",
    "            converters = convert_thousand,\n",
    "            parse_dates=['Datum'],\n",
    "            date_parser = dateparse )\n",
    "        df_price = df_price.append(df2)\n",
    "    else:\n",
    "        df_price = pd.read_csv(PATH,\n",
    "            sep=r\";\",\n",
    "            decimal=r\",\",\n",
    "            thousands=r\".\",\n",
    "            converters = convert_thousand,\n",
    "            parse_dates=['Datum'],\n",
    "            date_parser = dateparse)\n",
    "del df2"
   ]
  },
  {
   "cell_type": "code",
   "execution_count": 62,
   "metadata": {},
   "outputs": [],
   "source": [
    "df_price['Date'] = df_price.apply(lambda row: _create_datetime(row), axis=1) \n",
    "df_price['Date'] = pd.to_datetime(df_price.Date,format=\"%Y-%m-%d %H:%M\")\n",
    "df_price = df_price.sort_values('Date').reset_index(drop=True)\n",
    "\n",
    "cols = list(df_price)\n",
    "cols.insert(0, cols.pop(cols.index('Date')))\n",
    "df_price = df_price.loc[:, cols]\n",
    "df_price.drop(['Uhrzeit'],axis=1,inplace=True)"
   ]
  },
  {
   "cell_type": "code",
   "execution_count": 63,
   "metadata": {},
   "outputs": [],
   "source": [
    "delete_currency = r\"(.*?)\\[\""
   ]
  },
  {
   "cell_type": "code",
   "execution_count": 64,
   "metadata": {},
   "outputs": [],
   "source": [
    "new_columns = [\"price_\"+ re.search(delete_currency,col).group(1).lower()\n",
    " for col in df_price.columns[2::]]\n",
    "new_columns.insert(0,'Date')\n",
    "new_columns.insert(1,'Tag')\n",
    "\n",
    "df_price.columns = new_columns"
   ]
  },
  {
   "cell_type": "code",
   "execution_count": 65,
   "metadata": {},
   "outputs": [],
   "source": [
    "df_price.fillna(df_price.mean(),inplace=True)"
   ]
  },
  {
   "cell_type": "code",
   "execution_count": 66,
   "metadata": {},
   "outputs": [],
   "source": [
    "time_shift = 24\n",
    "rolling_window = 24\n",
    "df_price.iloc[:,2::] = df_price.iloc[:,2::].shift(time_shift).rolling(rolling_window).mean()\n",
    "df_price.dropna(inplace=True)"
   ]
  },
  {
   "cell_type": "markdown",
   "metadata": {},
   "source": [
    "---"
   ]
  },
  {
   "cell_type": "markdown",
   "metadata": {},
   "source": [
    "# Realisierter Stromverbrauch"
   ]
  },
  {
   "cell_type": "code",
   "execution_count": 89,
   "metadata": {},
   "outputs": [
    {
     "name": "stdout",
     "output_type": "stream",
     "text": [
      "Import File: DE_Realisierter Stromverbrauch_201506010000_201706012345_1.csv \n",
      "Import File: DE_Realisierter Stromverbrauch_201706010000_201906012345_1.csv \n"
     ]
    }
   ],
   "source": [
    "import_files = os.listdir(\"data/Stromverbrauch_real/\")\n",
    "\n",
    "for idx , file in enumerate(import_files):\n",
    "    print(\"Import File: {} \".format(file))\n",
    "    PATH = \"data/Stromverbrauch_real/\" + file\n",
    "    \n",
    "    if idx>0:\n",
    "        df2 = pd.read_csv(PATH,\n",
    "            sep=r\";\",\n",
    "            decimal=r\",\",\n",
    "            thousands=r\".\",\n",
    "            converters = convert_thousand,\n",
    "            parse_dates=['Datum'],\n",
    "            date_parser = dateparse )\n",
    "        df_consumption = df_consumption.append(df2)\n",
    "    else:\n",
    "        df_consumption = pd.read_csv(PATH,\n",
    "            sep=r\";\",\n",
    "            decimal=r\",\",\n",
    "            thousands=r\".\",\n",
    "            converters = convert_thousand,\n",
    "            parse_dates=['Datum'],\n",
    "            date_parser = dateparse)\n",
    "\n",
    "del df2"
   ]
  },
  {
   "cell_type": "code",
   "execution_count": 90,
   "metadata": {},
   "outputs": [],
   "source": [
    "df_consumption = df_consumption.groupby(\"Datum\").sum()"
   ]
  },
  {
   "cell_type": "code",
   "execution_count": 91,
   "metadata": {},
   "outputs": [],
   "source": [
    "df_consumption.columns = [\"daily_consumption_ger\"]"
   ]
  },
  {
   "cell_type": "code",
   "execution_count": 92,
   "metadata": {},
   "outputs": [],
   "source": [
    "day_shift = 1\n",
    "df_consumption = df_consumption.shift(day_shift)\n",
    "df_consumption.dropna(inplace=True)"
   ]
  },
  {
   "cell_type": "code",
   "execution_count": 93,
   "metadata": {},
   "outputs": [],
   "source": [
    "df_consumption['Tag'] = df_consumption.index"
   ]
  },
  {
   "cell_type": "markdown",
   "metadata": {},
   "source": [
    "---"
   ]
  },
  {
   "cell_type": "markdown",
   "metadata": {},
   "source": [
    "# Feature Extraction Stromfluss DF"
   ]
  },
  {
   "cell_type": "markdown",
   "metadata": {},
   "source": [
    "### Vortag stündlicher Nettoexport pro Land "
   ]
  },
  {
   "cell_type": "code",
   "execution_count": 37,
   "metadata": {},
   "outputs": [],
   "source": [
    "hour_shift = 24"
   ]
  },
  {
   "cell_type": "code",
   "execution_count": 40,
   "metadata": {},
   "outputs": [],
   "source": [
    "prev_day_nx = df.iloc[:,2::].groupby(lambda x: x.split('_')[0], axis=1).sum()\n",
    "prev_day_nx['Date'] = df['Date']\n",
    "prev_day_nx.loc[:,prev_day_nx.columns!='Date'] = prev_day_nx.loc[:,prev_day_nx.columns!='Date'].shift(hour_shift)\n",
    "prev_day_nx.dropna(inplace=True)\n",
    "\n",
    "columns = [col +\"_nx_prev_day\" for col in prev_day_nx.loc[:,prev_day_nx.columns!='Date'].columns]\n",
    "columns.insert(len(columns)+1,'Date')\n",
    "prev_day_nx.columns = columns\n",
    "df = pd.merge(df,prev_day_nx,on=\"Date\",how=\"inner\")"
   ]
  },
  {
   "cell_type": "code",
   "execution_count": 56,
   "metadata": {},
   "outputs": [
    {
     "data": {
      "text/html": [
       "<div>\n",
       "<style scoped>\n",
       "    .dataframe tbody tr th:only-of-type {\n",
       "        vertical-align: middle;\n",
       "    }\n",
       "\n",
       "    .dataframe tbody tr th {\n",
       "        vertical-align: top;\n",
       "    }\n",
       "\n",
       "    .dataframe thead th {\n",
       "        text-align: right;\n",
       "    }\n",
       "</style>\n",
       "<table border=\"1\" class=\"dataframe\">\n",
       "  <thead>\n",
       "    <tr style=\"text-align: right;\">\n",
       "      <th></th>\n",
       "      <th>Date</th>\n",
       "      <th>Tag</th>\n",
       "      <th>NX</th>\n",
       "      <th>NL_EX</th>\n",
       "      <th>NL_IM</th>\n",
       "      <th>CHE_EX</th>\n",
       "      <th>CHE_IM</th>\n",
       "      <th>DNK_EX</th>\n",
       "      <th>DNK_IM</th>\n",
       "      <th>CZE_EX</th>\n",
       "      <th>...</th>\n",
       "      <th>LUX_EX</th>\n",
       "      <th>LUX_IM</th>\n",
       "      <th>SWE_EX</th>\n",
       "      <th>SWE_IM</th>\n",
       "      <th>AUT_EX</th>\n",
       "      <th>AUT_IM</th>\n",
       "      <th>FRA_EX</th>\n",
       "      <th>FRA_IM</th>\n",
       "      <th>PL_EX</th>\n",
       "      <th>PL_IM</th>\n",
       "    </tr>\n",
       "  </thead>\n",
       "  <tbody>\n",
       "    <tr>\n",
       "      <th>0</th>\n",
       "      <td>2015-06-01 00:00:00</td>\n",
       "      <td>2015-06-01</td>\n",
       "      <td>7279.0</td>\n",
       "      <td>3932.0</td>\n",
       "      <td>-0.0</td>\n",
       "      <td>145.0</td>\n",
       "      <td>-0.0</td>\n",
       "      <td>113.0</td>\n",
       "      <td>-385.0</td>\n",
       "      <td>912.0</td>\n",
       "      <td>...</td>\n",
       "      <td>0.0</td>\n",
       "      <td>0.0</td>\n",
       "      <td>1.0</td>\n",
       "      <td>-0.0</td>\n",
       "      <td>1394.0</td>\n",
       "      <td>-0.0</td>\n",
       "      <td>246.0</td>\n",
       "      <td>-0.0</td>\n",
       "      <td>1279.0</td>\n",
       "      <td>-0.0</td>\n",
       "    </tr>\n",
       "    <tr>\n",
       "      <th>1</th>\n",
       "      <td>2015-06-01 01:00:00</td>\n",
       "      <td>2015-06-01</td>\n",
       "      <td>7167.0</td>\n",
       "      <td>4014.0</td>\n",
       "      <td>-0.0</td>\n",
       "      <td>261.0</td>\n",
       "      <td>-0.0</td>\n",
       "      <td>63.0</td>\n",
       "      <td>-204.0</td>\n",
       "      <td>839.0</td>\n",
       "      <td>...</td>\n",
       "      <td>0.0</td>\n",
       "      <td>0.0</td>\n",
       "      <td>1.0</td>\n",
       "      <td>-0.0</td>\n",
       "      <td>1355.0</td>\n",
       "      <td>-0.0</td>\n",
       "      <td>66.0</td>\n",
       "      <td>-0.0</td>\n",
       "      <td>1142.0</td>\n",
       "      <td>-0.0</td>\n",
       "    </tr>\n",
       "    <tr>\n",
       "      <th>2</th>\n",
       "      <td>2015-06-01 02:00:00</td>\n",
       "      <td>2015-06-01</td>\n",
       "      <td>6667.0</td>\n",
       "      <td>3864.0</td>\n",
       "      <td>-0.0</td>\n",
       "      <td>117.0</td>\n",
       "      <td>-14.0</td>\n",
       "      <td>206.0</td>\n",
       "      <td>-532.0</td>\n",
       "      <td>751.0</td>\n",
       "      <td>...</td>\n",
       "      <td>0.0</td>\n",
       "      <td>0.0</td>\n",
       "      <td>1.0</td>\n",
       "      <td>-0.0</td>\n",
       "      <td>1574.0</td>\n",
       "      <td>-0.0</td>\n",
       "      <td>0.0</td>\n",
       "      <td>-105.0</td>\n",
       "      <td>1134.0</td>\n",
       "      <td>-0.0</td>\n",
       "    </tr>\n",
       "    <tr>\n",
       "      <th>3</th>\n",
       "      <td>2015-06-01 03:00:00</td>\n",
       "      <td>2015-06-01</td>\n",
       "      <td>6413.0</td>\n",
       "      <td>4242.0</td>\n",
       "      <td>-0.0</td>\n",
       "      <td>63.0</td>\n",
       "      <td>-21.0</td>\n",
       "      <td>134.0</td>\n",
       "      <td>-396.0</td>\n",
       "      <td>555.0</td>\n",
       "      <td>...</td>\n",
       "      <td>0.0</td>\n",
       "      <td>0.0</td>\n",
       "      <td>1.0</td>\n",
       "      <td>-0.0</td>\n",
       "      <td>1271.0</td>\n",
       "      <td>-0.0</td>\n",
       "      <td>0.0</td>\n",
       "      <td>-206.0</td>\n",
       "      <td>1090.0</td>\n",
       "      <td>-0.0</td>\n",
       "    </tr>\n",
       "    <tr>\n",
       "      <th>4</th>\n",
       "      <td>2015-06-01 04:00:00</td>\n",
       "      <td>2015-06-01</td>\n",
       "      <td>5347.0</td>\n",
       "      <td>4292.0</td>\n",
       "      <td>-0.0</td>\n",
       "      <td>3.0</td>\n",
       "      <td>-130.0</td>\n",
       "      <td>67.0</td>\n",
       "      <td>-649.0</td>\n",
       "      <td>568.0</td>\n",
       "      <td>...</td>\n",
       "      <td>0.0</td>\n",
       "      <td>0.0</td>\n",
       "      <td>1.0</td>\n",
       "      <td>-0.0</td>\n",
       "      <td>1068.0</td>\n",
       "      <td>-0.0</td>\n",
       "      <td>0.0</td>\n",
       "      <td>-549.0</td>\n",
       "      <td>1083.0</td>\n",
       "      <td>-0.0</td>\n",
       "    </tr>\n",
       "  </tbody>\n",
       "</table>\n",
       "<p>5 rows × 21 columns</p>\n",
       "</div>"
      ],
      "text/plain": [
       "                 Date        Tag      NX   NL_EX  NL_IM  CHE_EX  CHE_IM  \\\n",
       "0 2015-06-01 00:00:00 2015-06-01  7279.0  3932.0   -0.0   145.0    -0.0   \n",
       "1 2015-06-01 01:00:00 2015-06-01  7167.0  4014.0   -0.0   261.0    -0.0   \n",
       "2 2015-06-01 02:00:00 2015-06-01  6667.0  3864.0   -0.0   117.0   -14.0   \n",
       "3 2015-06-01 03:00:00 2015-06-01  6413.0  4242.0   -0.0    63.0   -21.0   \n",
       "4 2015-06-01 04:00:00 2015-06-01  5347.0  4292.0   -0.0     3.0  -130.0   \n",
       "\n",
       "   DNK_EX  DNK_IM  CZE_EX  ...  LUX_EX  LUX_IM  SWE_EX  SWE_IM  AUT_EX  \\\n",
       "0   113.0  -385.0   912.0  ...     0.0     0.0     1.0    -0.0  1394.0   \n",
       "1    63.0  -204.0   839.0  ...     0.0     0.0     1.0    -0.0  1355.0   \n",
       "2   206.0  -532.0   751.0  ...     0.0     0.0     1.0    -0.0  1574.0   \n",
       "3   134.0  -396.0   555.0  ...     0.0     0.0     1.0    -0.0  1271.0   \n",
       "4    67.0  -649.0   568.0  ...     0.0     0.0     1.0    -0.0  1068.0   \n",
       "\n",
       "   AUT_IM  FRA_EX  FRA_IM   PL_EX  PL_IM  \n",
       "0    -0.0   246.0    -0.0  1279.0   -0.0  \n",
       "1    -0.0    66.0    -0.0  1142.0   -0.0  \n",
       "2    -0.0     0.0  -105.0  1134.0   -0.0  \n",
       "3    -0.0     0.0  -206.0  1090.0   -0.0  \n",
       "4    -0.0     0.0  -549.0  1083.0   -0.0  \n",
       "\n",
       "[5 rows x 21 columns]"
      ]
     },
     "execution_count": 56,
     "metadata": {},
     "output_type": "execute_result"
    }
   ],
   "source": [
    "df.head()"
   ]
  },
  {
   "cell_type": "markdown",
   "metadata": {},
   "source": [
    "---"
   ]
  }
 ],
 "metadata": {
  "kernelspec": {
   "display_name": "Python 3",
   "language": "python",
   "name": "python3"
  },
  "language_info": {
   "codemirror_mode": {
    "name": "ipython",
    "version": 3
   },
   "file_extension": ".py",
   "mimetype": "text/x-python",
   "name": "python",
   "nbconvert_exporter": "python",
   "pygments_lexer": "ipython3",
   "version": "3.7.0"
  }
 },
 "nbformat": 4,
 "nbformat_minor": 2
}
