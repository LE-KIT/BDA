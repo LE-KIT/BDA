{
 "cells": [
  {
   "cell_type": "markdown",
   "metadata": {},
   "source": [
    "# Business Data Analytics - Challenge"
   ]
  },
  {
   "cell_type": "markdown",
   "metadata": {},
   "source": [
    "---"
   ]
  },
  {
   "cell_type": "markdown",
   "metadata": {},
   "source": [
    "## Package Import"
   ]
  },
  {
   "cell_type": "code",
   "execution_count": 1,
   "metadata": {},
   "outputs": [],
   "source": [
    "import pandas as pd\n",
    "import numpy as np\n",
    "import re\n",
    "import os"
   ]
  },
  {
   "cell_type": "markdown",
   "metadata": {},
   "source": [
    "---"
   ]
  },
  {
   "cell_type": "code",
   "execution_count": 2,
   "metadata": {},
   "outputs": [],
   "source": [
    "def _create_datetime(row):\n",
    "    date = row.Datum.strftime(\"%Y-%m-%d\") + \" \" + row.Uhrzeit\n",
    "    return date"
   ]
  },
  {
   "cell_type": "code",
   "execution_count": 3,
   "metadata": {},
   "outputs": [],
   "source": [
    "def prepare_stromfluesse(path_to_data_storage):\n",
    "    \n",
    "    dateparse = lambda x: pd.datetime.strptime(x, '%d.%m.%Y')\n",
    "    numberparse = lambda x: pd.np.float(x.replace(\".\", \"\").replace(\",\",\".\")) if x!=\"-\" else np.nan\n",
    "    convert_thousand = { num:numberparse   for num in np.arange(2,22)}\n",
    "    \n",
    "    import_files = os.listdir(path_to_data_storage)\n",
    "\n",
    "    for idx , file in enumerate(import_files):\n",
    "        print(\"Import File: {} \".format(file))\n",
    "        PATH = path_to_data_storage + file\n",
    "        if idx>0:\n",
    "            df2 = pd.read_csv(PATH,\n",
    "                sep=r\";\",\n",
    "                decimal=r\",\",\n",
    "                thousands=r\".\",\n",
    "                converters = convert_thousand,\n",
    "                parse_dates=['Datum'],\n",
    "                date_parser = dateparse )\n",
    "            df = df.append(df2)\n",
    "        else:\n",
    "            df = pd.read_csv(PATH,\n",
    "                sep=r\";\",\n",
    "                decimal=r\",\",\n",
    "                thousands=r\".\",\n",
    "                converters = convert_thousand,\n",
    "                parse_dates=['Datum'],\n",
    "                date_parser = dateparse)\n",
    "    \n",
    "    df['Date'] = df.apply(lambda row: _create_datetime(row), axis=1) \n",
    "    df['Date'] = pd.to_datetime(df.Date,format=\"%Y-%m-%d %H:%M\")\n",
    "    df = df.sort_values('Date').reset_index(drop=True)\n",
    "\n",
    "    cols = list(df)\n",
    "    cols.insert(0, cols.pop(cols.index('Date')))\n",
    "    df = df.loc[:, cols]\n",
    "    df.drop(['Uhrzeit'],axis=1,inplace=True)\n",
    "    \n",
    "    type_pattern = r\"\\((.*?)\\)\"\n",
    "    country_pattern = r\"(.*?) \"\n",
    "    countries = {\n",
    "    'Niederlande':'NL',\n",
    "    'Schweiz': 'CHE',\n",
    "    'Dänemark' : 'DNK',\n",
    "    'Tschechien' : 'CZE',\n",
    "    'Luxemburg' : 'LUX',\n",
    "    'Schweden' : 'SWE',\n",
    "    'Österreich' : 'AUT',\n",
    "    'Frankreich' : 'FRA',\n",
    "    'Polen' : 'PL'\n",
    "    } \n",
    "\n",
    "    types = {\n",
    "        'Import' : 'IM',\n",
    "        'Export' : 'EX'\n",
    "    }\n",
    "\n",
    "    new_columns = [countries.get(re.search(country_pattern,col).group(1)) + \n",
    "     \"_\" + \n",
    "     types.get(re.search(type_pattern,col).group(1))\n",
    "     for col in df.columns[3::]]\n",
    "    new_columns.insert(0,'Date')\n",
    "    new_columns.insert(1,'Tag')\n",
    "    new_columns.insert(2,'NX')\n",
    "    df.columns = new_columns\n",
    "    \n",
    "    df['NX'] = df.loc[:, 'NL_EX':'PL_IM'].sum(axis=1)\n",
    "    \n",
    "    df = df.fillna(0)\n",
    "    \n",
    "    for key,value in countries.items():\n",
    "        expo = value + \"_EX\"\n",
    "        impo = value + \"_IM\"\n",
    "        df[value] = df[expo] + df[impo]\n",
    "        df.drop([expo,impo],axis=1,inplace=True)\n",
    "\n",
    "    return df"
   ]
  },
  {
   "cell_type": "code",
   "execution_count": 4,
   "metadata": {},
   "outputs": [],
   "source": [
    "def prepare_strompreise(path_to_data_storage,aggregate=True):\n",
    "    import_files = os.listdir(path_to_data_storage)\n",
    "\n",
    "    for idx , file in enumerate(import_files):\n",
    "        print(\"Import File: {} \".format(file))\n",
    "        PATH = path_to_data_storage + file\n",
    "        if idx>0:\n",
    "            df2 = pd.read_csv(PATH,\n",
    "                sep=r\";\",\n",
    "                decimal=r\",\",\n",
    "                thousands=r\".\",\n",
    "                converters = convert_thousand,\n",
    "                parse_dates=['Datum'],\n",
    "                date_parser = dateparse )\n",
    "            df_price = df_price.append(df2)\n",
    "        else:\n",
    "            df_price = pd.read_csv(PATH,\n",
    "                sep=r\";\",\n",
    "                decimal=r\",\",\n",
    "                thousands=r\".\",\n",
    "                converters = convert_thousand,\n",
    "                parse_dates=['Datum'],\n",
    "                date_parser = dateparse)\n",
    "    \n",
    "    df_price['Date'] = df_price.apply(lambda row: _create_datetime(row), axis=1) \n",
    "    df_price['Date'] = pd.to_datetime(df_price.Date,format=\"%Y-%m-%d %H:%M\")\n",
    "    df_price = df_price.sort_values('Date').reset_index(drop=True)\n",
    "\n",
    "    cols = list(df_price)\n",
    "    cols.insert(0, cols.pop(cols.index('Date')))\n",
    "    df_price = df_price.loc[:, cols]\n",
    "    df_price.drop(['Uhrzeit'],axis=1,inplace=True)\n",
    "    \n",
    "    delete_currency = r\"(.*?)\\[\"\n",
    "    new_columns = [\"price_\"+ re.search(delete_currency,col).group(1).lower()\n",
    "     for col in df_price.columns[2::]]\n",
    "    new_columns.insert(0,'Date')\n",
    "    new_columns.insert(1,'Tag')\n",
    "    df_price.columns = new_columns\n",
    "    \n",
    "    df_price.fillna(df_price.mean(),inplace=True)\n",
    "    \n",
    "    df_price_aggregated = pd.DataFrame(columns=df_price.columns[2::])\n",
    "\n",
    "    ind = 0 \n",
    "    for name,df in df_price.groupby('Tag'):\n",
    "        mean_price_day = df.iloc[:,2::].mean()\n",
    "        df_price_aggregated = df_price_aggregated.append(mean_price_day,ignore_index=True)\n",
    "\n",
    "    df_price_aggregated.columns = [\"daily_\" + col for col in df_price_aggregated.columns]\n",
    "    \n",
    "    df_price_aggregated['Tag'] = df_price.Tag.unique()\n",
    "    \n",
    "    cols = list(df_price_aggregated)\n",
    "    cols.insert(0, cols.pop(cols.index('Tag')))\n",
    "    df_price_aggregated = df_price_aggregated.loc[:, cols]\n",
    "    \n",
    "    if aggregate == True:\n",
    "        return df_price_aggregated\n",
    "    else:\n",
    "        return df_price"
   ]
  },
  {
   "cell_type": "code",
   "execution_count": 5,
   "metadata": {},
   "outputs": [],
   "source": [
    "def prepare_konsum_ger(path_to_data_storage):\n",
    "    import_files = os.listdir(path_to_data_storage)\n",
    "\n",
    "    for idx , file in enumerate(import_files):\n",
    "        print(\"Import File: {} \".format(file))\n",
    "        PATH = path_to_data_storage + file\n",
    "\n",
    "        if idx>0:\n",
    "            df2 = pd.read_csv(PATH,\n",
    "                sep=r\";\",\n",
    "                decimal=r\",\",\n",
    "                thousands=r\".\",\n",
    "                converters = convert_thousand,\n",
    "                parse_dates=['Datum'],\n",
    "                date_parser = dateparse )\n",
    "            df_consumption = df_consumption.append(df2)\n",
    "        else:\n",
    "            df_consumption = pd.read_csv(PATH,\n",
    "                sep=r\";\",\n",
    "                decimal=r\",\",\n",
    "                thousands=r\".\",\n",
    "                converters = convert_thousand,\n",
    "                parse_dates=['Datum'],\n",
    "                date_parser = dateparse)\n",
    "\n",
    "    df_consumption = df_consumption.groupby(\"Datum\").sum()\n",
    "    df_consumption.columns = [\"daily_consumption_ger\"]\n",
    "\n",
    "    df_consumption.dropna(inplace=True)\n",
    "    df_consumption['Tag'] = df_consumption.index\n",
    "    \n",
    "    cols = list(df_consumption)\n",
    "    cols.insert(0, cols.pop(cols.index('Tag')))\n",
    "    df_consumption = df_consumption.loc[:, cols]\n",
    "\n",
    "    df_consumption.reset_index(drop=True,inplace=True)\n",
    "    \n",
    "    return df_consumption"
   ]
  },
  {
   "cell_type": "markdown",
   "metadata": {},
   "source": [
    "---"
   ]
  },
  {
   "cell_type": "markdown",
   "metadata": {},
   "source": [
    "---"
   ]
  },
  {
   "cell_type": "markdown",
   "metadata": {},
   "source": [
    "## Data Import"
   ]
  },
  {
   "cell_type": "code",
   "execution_count": 6,
   "metadata": {},
   "outputs": [],
   "source": [
    "dateparse = lambda x: pd.datetime.strptime(x, '%d.%m.%Y')\n",
    "numberparse = lambda x: pd.np.float(x.replace(\".\", \"\").replace(\",\",\".\")) if x!=\"-\" else np.nan\n",
    "convert_thousand = { num:numberparse   for num in np.arange(2,22)}"
   ]
  },
  {
   "cell_type": "code",
   "execution_count": 7,
   "metadata": {},
   "outputs": [
    {
     "name": "stdout",
     "output_type": "stream",
     "text": [
      "Import File: DE_Physikalischer_Stromfluss_201506010000_201706012359_1.csv \n",
      "Import File: DE_Physikalischer_Stromfluss_201706020000_201906022359_1.csv \n"
     ]
    }
   ],
   "source": [
    "import_files = os.listdir(\"data/Stromfluss/\")\n",
    "\n",
    "for idx , file in enumerate(import_files):\n",
    "    print(\"Import File: {} \".format(file))\n",
    "    PATH = \"data/Stromfluss/\" + file\n",
    "    if idx>0:\n",
    "        df2 = pd.read_csv(PATH,\n",
    "            sep=r\";\",\n",
    "            decimal=r\",\",\n",
    "            thousands=r\".\",\n",
    "            converters = convert_thousand,\n",
    "            parse_dates=['Datum'],\n",
    "            date_parser = dateparse )\n",
    "        df = df.append(df2)\n",
    "    else:\n",
    "        df = pd.read_csv(PATH,\n",
    "            sep=r\";\",\n",
    "            decimal=r\",\",\n",
    "            thousands=r\".\",\n",
    "            converters = convert_thousand,\n",
    "            parse_dates=['Datum'],\n",
    "            date_parser = dateparse)\n",
    "del df2"
   ]
  },
  {
   "cell_type": "markdown",
   "metadata": {},
   "source": [
    "---"
   ]
  },
  {
   "cell_type": "markdown",
   "metadata": {},
   "source": [
    "## Preprocessing"
   ]
  },
  {
   "cell_type": "markdown",
   "metadata": {},
   "source": [
    "#### Time"
   ]
  },
  {
   "cell_type": "code",
   "execution_count": 8,
   "metadata": {},
   "outputs": [],
   "source": [
    "def _create_datetime(row):\n",
    "    date = row.Datum.strftime(\"%Y-%m-%d\") + \" \" + row.Uhrzeit\n",
    "    return date"
   ]
  },
  {
   "cell_type": "code",
   "execution_count": 9,
   "metadata": {},
   "outputs": [],
   "source": [
    "df['Date'] = df.apply(lambda row: _create_datetime(row), axis=1) \n",
    "df['Date'] = pd.to_datetime(df.Date,format=\"%Y-%m-%d %H:%M\")\n",
    "df = df.sort_values('Date').reset_index(drop=True)\n",
    "\n",
    "cols = list(df)\n",
    "cols.insert(0, cols.pop(cols.index('Date')))\n",
    "df = df.loc[:, cols]\n",
    "df.drop(['Uhrzeit'],axis=1,inplace=True)"
   ]
  },
  {
   "cell_type": "markdown",
   "metadata": {},
   "source": [
    "#### Columns"
   ]
  },
  {
   "cell_type": "code",
   "execution_count": 7,
   "metadata": {},
   "outputs": [],
   "source": [
    "type_pattern = r\"\\((.*?)\\)\"\n",
    "country_pattern = r\"(.*?) \""
   ]
  },
  {
   "cell_type": "code",
   "execution_count": 8,
   "metadata": {},
   "outputs": [],
   "source": [
    "countries = {\n",
    "    'Niederlande':'NL',\n",
    "    'Schweiz': 'CHE',\n",
    "    'Dänemark' : 'DNK',\n",
    "    'Tschechien' : 'CZE',\n",
    "    'Luxemburg' : 'LUX',\n",
    "    'Schweden' : 'SWE',\n",
    "    'Österreich' : 'AUT',\n",
    "    'Frankreich' : 'FRA',\n",
    "    'Polen' : 'PL'\n",
    "} \n",
    "\n",
    "types = {\n",
    "    'Import' : 'IM',\n",
    "    'Export' : 'EX'\n",
    "}\n",
    "\n",
    "new_columns = [countries.get(re.search(country_pattern,col).group(1)) + \n",
    " \"_\" + \n",
    " types.get(re.search(type_pattern,col).group(1))\n",
    " for col in df.columns[3::]]\n",
    "new_columns.insert(0,'Date')\n",
    "new_columns.insert(1,'Tag')\n",
    "new_columns.insert(2,'NX')\n",
    "\n",
    "df.columns = new_columns"
   ]
  },
  {
   "cell_type": "markdown",
   "metadata": {},
   "source": [
    "#### NX"
   ]
  },
  {
   "cell_type": "code",
   "execution_count": 11,
   "metadata": {},
   "outputs": [],
   "source": [
    "df['NX'] = df.loc[:, 'NL_EX':'PL_IM'].sum(axis=1)"
   ]
  },
  {
   "cell_type": "markdown",
   "metadata": {},
   "source": [
    "#### Fill Nones"
   ]
  },
  {
   "cell_type": "code",
   "execution_count": 12,
   "metadata": {},
   "outputs": [],
   "source": [
    "df = df.fillna(0)"
   ]
  },
  {
   "cell_type": "markdown",
   "metadata": {},
   "source": [
    "### Aggregate to NX"
   ]
  },
  {
   "cell_type": "code",
   "execution_count": 13,
   "metadata": {},
   "outputs": [],
   "source": [
    "for key,value in countries.items():\n",
    "    expo = value + \"_EX\"\n",
    "    impo = value + \"_IM\"\n",
    "    df[value] = df[expo] + df[impo]\n",
    "    df.drop([expo,impo],axis=1,inplace=True)\n"
   ]
  },
  {
   "cell_type": "code",
   "execution_count": 14,
   "metadata": {},
   "outputs": [
    {
     "data": {
      "text/html": [
       "<div>\n",
       "<style scoped>\n",
       "    .dataframe tbody tr th:only-of-type {\n",
       "        vertical-align: middle;\n",
       "    }\n",
       "\n",
       "    .dataframe tbody tr th {\n",
       "        vertical-align: top;\n",
       "    }\n",
       "\n",
       "    .dataframe thead th {\n",
       "        text-align: right;\n",
       "    }\n",
       "</style>\n",
       "<table border=\"1\" class=\"dataframe\">\n",
       "  <thead>\n",
       "    <tr style=\"text-align: right;\">\n",
       "      <th></th>\n",
       "      <th>Date</th>\n",
       "      <th>Tag</th>\n",
       "      <th>NX</th>\n",
       "      <th>NL</th>\n",
       "      <th>CHE</th>\n",
       "      <th>DNK</th>\n",
       "      <th>CZE</th>\n",
       "      <th>LUX</th>\n",
       "      <th>SWE</th>\n",
       "      <th>AUT</th>\n",
       "      <th>FRA</th>\n",
       "      <th>PL</th>\n",
       "    </tr>\n",
       "  </thead>\n",
       "  <tbody>\n",
       "    <tr>\n",
       "      <th>0</th>\n",
       "      <td>2015-06-01 00:00:00</td>\n",
       "      <td>2015-06-01</td>\n",
       "      <td>7279.0</td>\n",
       "      <td>3932.0</td>\n",
       "      <td>145.0</td>\n",
       "      <td>-272.0</td>\n",
       "      <td>554.0</td>\n",
       "      <td>0.0</td>\n",
       "      <td>1.0</td>\n",
       "      <td>1394.0</td>\n",
       "      <td>246.0</td>\n",
       "      <td>1279.0</td>\n",
       "    </tr>\n",
       "    <tr>\n",
       "      <th>1</th>\n",
       "      <td>2015-06-01 01:00:00</td>\n",
       "      <td>2015-06-01</td>\n",
       "      <td>7167.0</td>\n",
       "      <td>4014.0</td>\n",
       "      <td>261.0</td>\n",
       "      <td>-141.0</td>\n",
       "      <td>469.0</td>\n",
       "      <td>0.0</td>\n",
       "      <td>1.0</td>\n",
       "      <td>1355.0</td>\n",
       "      <td>66.0</td>\n",
       "      <td>1142.0</td>\n",
       "    </tr>\n",
       "    <tr>\n",
       "      <th>2</th>\n",
       "      <td>2015-06-01 02:00:00</td>\n",
       "      <td>2015-06-01</td>\n",
       "      <td>6667.0</td>\n",
       "      <td>3864.0</td>\n",
       "      <td>103.0</td>\n",
       "      <td>-326.0</td>\n",
       "      <td>422.0</td>\n",
       "      <td>0.0</td>\n",
       "      <td>1.0</td>\n",
       "      <td>1574.0</td>\n",
       "      <td>-105.0</td>\n",
       "      <td>1134.0</td>\n",
       "    </tr>\n",
       "    <tr>\n",
       "      <th>3</th>\n",
       "      <td>2015-06-01 03:00:00</td>\n",
       "      <td>2015-06-01</td>\n",
       "      <td>6413.0</td>\n",
       "      <td>4242.0</td>\n",
       "      <td>42.0</td>\n",
       "      <td>-262.0</td>\n",
       "      <td>235.0</td>\n",
       "      <td>0.0</td>\n",
       "      <td>1.0</td>\n",
       "      <td>1271.0</td>\n",
       "      <td>-206.0</td>\n",
       "      <td>1090.0</td>\n",
       "    </tr>\n",
       "    <tr>\n",
       "      <th>4</th>\n",
       "      <td>2015-06-01 04:00:00</td>\n",
       "      <td>2015-06-01</td>\n",
       "      <td>5347.0</td>\n",
       "      <td>4292.0</td>\n",
       "      <td>-127.0</td>\n",
       "      <td>-582.0</td>\n",
       "      <td>161.0</td>\n",
       "      <td>0.0</td>\n",
       "      <td>1.0</td>\n",
       "      <td>1068.0</td>\n",
       "      <td>-549.0</td>\n",
       "      <td>1083.0</td>\n",
       "    </tr>\n",
       "  </tbody>\n",
       "</table>\n",
       "</div>"
      ],
      "text/plain": [
       "                 Date        Tag      NX      NL    CHE    DNK    CZE  LUX  \\\n",
       "0 2015-06-01 00:00:00 2015-06-01  7279.0  3932.0  145.0 -272.0  554.0  0.0   \n",
       "1 2015-06-01 01:00:00 2015-06-01  7167.0  4014.0  261.0 -141.0  469.0  0.0   \n",
       "2 2015-06-01 02:00:00 2015-06-01  6667.0  3864.0  103.0 -326.0  422.0  0.0   \n",
       "3 2015-06-01 03:00:00 2015-06-01  6413.0  4242.0   42.0 -262.0  235.0  0.0   \n",
       "4 2015-06-01 04:00:00 2015-06-01  5347.0  4292.0 -127.0 -582.0  161.0  0.0   \n",
       "\n",
       "   SWE     AUT    FRA      PL  \n",
       "0  1.0  1394.0  246.0  1279.0  \n",
       "1  1.0  1355.0   66.0  1142.0  \n",
       "2  1.0  1574.0 -105.0  1134.0  \n",
       "3  1.0  1271.0 -206.0  1090.0  \n",
       "4  1.0  1068.0 -549.0  1083.0  "
      ]
     },
     "execution_count": 14,
     "metadata": {},
     "output_type": "execute_result"
    }
   ],
   "source": [
    "df.head()"
   ]
  },
  {
   "cell_type": "markdown",
   "metadata": {},
   "source": [
    "---"
   ]
  },
  {
   "cell_type": "markdown",
   "metadata": {},
   "source": [
    "# Strompreise"
   ]
  },
  {
   "cell_type": "code",
   "execution_count": 22,
   "metadata": {},
   "outputs": [
    {
     "name": "stdout",
     "output_type": "stream",
     "text": [
      "Import File: DE_Großhandelspreise_201706010000_201906012359_1.csv \n",
      "Import File: DE_Großhandelspreise_201506010000_201706012359_1.csv \n"
     ]
    }
   ],
   "source": [
    "df_price = prepare_strompreise(\"data/Strompreise/\")"
   ]
  },
  {
   "cell_type": "code",
   "execution_count": 23,
   "metadata": {},
   "outputs": [
    {
     "name": "stdout",
     "output_type": "stream",
     "text": [
      "Import File: DE_Großhandelspreise_201706010000_201906012359_1.csv \n",
      "Import File: DE_Großhandelspreise_201506010000_201706012359_1.csv \n"
     ]
    }
   ],
   "source": [
    "import_files = os.listdir(\"data/Strompreise/\")\n",
    "\n",
    "for idx , file in enumerate(import_files):\n",
    "    print(\"Import File: {} \".format(file))\n",
    "    PATH = \"data/Strompreise/\" + file\n",
    "    if idx>0:\n",
    "        df2 = pd.read_csv(PATH,\n",
    "            sep=r\";\",\n",
    "            decimal=r\",\",\n",
    "            thousands=r\".\",\n",
    "            converters = convert_thousand,\n",
    "            parse_dates=['Datum'],\n",
    "            date_parser = dateparse )\n",
    "        df_price = df_price.append(df2)\n",
    "    else:\n",
    "        df_price = pd.read_csv(PATH,\n",
    "            sep=r\";\",\n",
    "            decimal=r\",\",\n",
    "            thousands=r\".\",\n",
    "            converters = convert_thousand,\n",
    "            parse_dates=['Datum'],\n",
    "            date_parser = dateparse)\n",
    "del df2"
   ]
  },
  {
   "cell_type": "code",
   "execution_count": 24,
   "metadata": {},
   "outputs": [],
   "source": [
    "df_price['Date'] = df_price.apply(lambda row: _create_datetime(row), axis=1) \n",
    "df_price['Date'] = pd.to_datetime(df_price.Date,format=\"%Y-%m-%d %H:%M\")\n",
    "df_price = df_price.sort_values('Date').reset_index(drop=True)\n",
    "\n",
    "cols = list(df_price)\n",
    "cols.insert(0, cols.pop(cols.index('Date')))\n",
    "df_price = df_price.loc[:, cols]\n",
    "df_price.drop(['Uhrzeit'],axis=1,inplace=True)"
   ]
  },
  {
   "cell_type": "code",
   "execution_count": 25,
   "metadata": {},
   "outputs": [],
   "source": [
    "delete_currency = r\"(.*?)\\[\"\n",
    "\n",
    "new_columns = [\"price_\"+ re.search(delete_currency,col).group(1).lower()\n",
    " for col in df_price.columns[2::]]\n",
    "new_columns.insert(0,'Date')\n",
    "new_columns.insert(1,'Tag')\n",
    "\n",
    "df_price.columns = new_columns"
   ]
  },
  {
   "cell_type": "code",
   "execution_count": 26,
   "metadata": {},
   "outputs": [],
   "source": [
    "df_price.fillna(df_price.mean(),inplace=True)"
   ]
  },
  {
   "cell_type": "code",
   "execution_count": 27,
   "metadata": {},
   "outputs": [],
   "source": [
    "df_price_aggregated = pd.DataFrame(columns=df_price.columns[2::])\n",
    "\n",
    "ind = 0 \n",
    "for name,df in df_price.groupby('Tag'):\n",
    "    mean_price_day = df.iloc[:,2::].mean()\n",
    "    df_price_aggregated = df_price_aggregated.append(mean_price_day,ignore_index=True)\n",
    "\n",
    "df_price_aggregated.columns = [\"daily_\" + col for col in df_price_aggregated.columns]"
   ]
  },
  {
   "cell_type": "code",
   "execution_count": 28,
   "metadata": {},
   "outputs": [],
   "source": [
    "df_price_aggregated['Tag'] = df_price.Tag.unique()"
   ]
  },
  {
   "cell_type": "code",
   "execution_count": 33,
   "metadata": {},
   "outputs": [],
   "source": [
    "cols = list(df_price_aggregated)\n",
    "cols.insert(0, cols.pop(cols.index('Tag')))\n",
    "df_price_aggregated = df_price_aggregated.loc[:, cols]"
   ]
  },
  {
   "cell_type": "code",
   "execution_count": 34,
   "metadata": {},
   "outputs": [
    {
     "data": {
      "text/html": [
       "<div>\n",
       "<style scoped>\n",
       "    .dataframe tbody tr th:only-of-type {\n",
       "        vertical-align: middle;\n",
       "    }\n",
       "\n",
       "    .dataframe tbody tr th {\n",
       "        vertical-align: top;\n",
       "    }\n",
       "\n",
       "    .dataframe thead th {\n",
       "        text-align: right;\n",
       "    }\n",
       "</style>\n",
       "<table border=\"1\" class=\"dataframe\">\n",
       "  <thead>\n",
       "    <tr style=\"text-align: right;\">\n",
       "      <th></th>\n",
       "      <th>Tag</th>\n",
       "      <th>daily_price_deutschland/luxemburg</th>\n",
       "      <th>daily_price_dänemark 1</th>\n",
       "      <th>daily_price_dänemark 2</th>\n",
       "      <th>daily_price_frankreich</th>\n",
       "      <th>daily_price_italien (nord)</th>\n",
       "      <th>daily_price_niederlande</th>\n",
       "      <th>daily_price_polen</th>\n",
       "      <th>daily_price_schweden 4</th>\n",
       "      <th>daily_price_schweiz</th>\n",
       "      <th>daily_price_slowenien</th>\n",
       "      <th>daily_price_tschechien</th>\n",
       "      <th>daily_price_ungarn</th>\n",
       "      <th>daily_price_österreich</th>\n",
       "      <th>daily_price_deutschland/österreich/luxemburg</th>\n",
       "    </tr>\n",
       "  </thead>\n",
       "  <tbody>\n",
       "    <tr>\n",
       "      <th>0</th>\n",
       "      <td>2015-06-01</td>\n",
       "      <td>44.390017</td>\n",
       "      <td>20.788750</td>\n",
       "      <td>30.169583</td>\n",
       "      <td>30.997500</td>\n",
       "      <td>49.521667</td>\n",
       "      <td>42.491250</td>\n",
       "      <td>39.270939</td>\n",
       "      <td>30.169583</td>\n",
       "      <td>32.077083</td>\n",
       "      <td>37.734167</td>\n",
       "      <td>32.905833</td>\n",
       "      <td>39.271250</td>\n",
       "      <td>48.781522</td>\n",
       "      <td>31.438333</td>\n",
       "    </tr>\n",
       "    <tr>\n",
       "      <th>1</th>\n",
       "      <td>2015-06-02</td>\n",
       "      <td>44.390017</td>\n",
       "      <td>16.130417</td>\n",
       "      <td>16.762500</td>\n",
       "      <td>24.302083</td>\n",
       "      <td>43.613333</td>\n",
       "      <td>33.039583</td>\n",
       "      <td>40.454272</td>\n",
       "      <td>16.762500</td>\n",
       "      <td>24.202500</td>\n",
       "      <td>28.686667</td>\n",
       "      <td>25.392500</td>\n",
       "      <td>41.874583</td>\n",
       "      <td>48.781522</td>\n",
       "      <td>22.030000</td>\n",
       "    </tr>\n",
       "    <tr>\n",
       "      <th>2</th>\n",
       "      <td>2015-06-03</td>\n",
       "      <td>44.390017</td>\n",
       "      <td>15.313750</td>\n",
       "      <td>15.353333</td>\n",
       "      <td>30.330000</td>\n",
       "      <td>52.009167</td>\n",
       "      <td>37.045833</td>\n",
       "      <td>40.272606</td>\n",
       "      <td>15.353333</td>\n",
       "      <td>26.726667</td>\n",
       "      <td>43.868750</td>\n",
       "      <td>27.514167</td>\n",
       "      <td>40.420833</td>\n",
       "      <td>48.781522</td>\n",
       "      <td>27.750000</td>\n",
       "    </tr>\n",
       "    <tr>\n",
       "      <th>3</th>\n",
       "      <td>2015-06-04</td>\n",
       "      <td>44.390017</td>\n",
       "      <td>22.298750</td>\n",
       "      <td>23.852917</td>\n",
       "      <td>31.705833</td>\n",
       "      <td>54.611667</td>\n",
       "      <td>46.650417</td>\n",
       "      <td>34.739724</td>\n",
       "      <td>23.462917</td>\n",
       "      <td>29.455833</td>\n",
       "      <td>37.598333</td>\n",
       "      <td>29.890417</td>\n",
       "      <td>34.675417</td>\n",
       "      <td>48.781522</td>\n",
       "      <td>28.929167</td>\n",
       "    </tr>\n",
       "    <tr>\n",
       "      <th>4</th>\n",
       "      <td>2015-06-05</td>\n",
       "      <td>44.390017</td>\n",
       "      <td>17.689583</td>\n",
       "      <td>21.050833</td>\n",
       "      <td>39.059583</td>\n",
       "      <td>51.943333</td>\n",
       "      <td>43.321250</td>\n",
       "      <td>43.065957</td>\n",
       "      <td>21.050833</td>\n",
       "      <td>29.855000</td>\n",
       "      <td>33.243333</td>\n",
       "      <td>30.061667</td>\n",
       "      <td>34.020417</td>\n",
       "      <td>48.781522</td>\n",
       "      <td>29.611667</td>\n",
       "    </tr>\n",
       "  </tbody>\n",
       "</table>\n",
       "</div>"
      ],
      "text/plain": [
       "         Tag  daily_price_deutschland/luxemburg  daily_price_dänemark 1  \\\n",
       "0 2015-06-01                          44.390017               20.788750   \n",
       "1 2015-06-02                          44.390017               16.130417   \n",
       "2 2015-06-03                          44.390017               15.313750   \n",
       "3 2015-06-04                          44.390017               22.298750   \n",
       "4 2015-06-05                          44.390017               17.689583   \n",
       "\n",
       "   daily_price_dänemark 2  daily_price_frankreich  daily_price_italien (nord)  \\\n",
       "0               30.169583               30.997500                   49.521667   \n",
       "1               16.762500               24.302083                   43.613333   \n",
       "2               15.353333               30.330000                   52.009167   \n",
       "3               23.852917               31.705833                   54.611667   \n",
       "4               21.050833               39.059583                   51.943333   \n",
       "\n",
       "   daily_price_niederlande  daily_price_polen  daily_price_schweden 4  \\\n",
       "0                42.491250          39.270939               30.169583   \n",
       "1                33.039583          40.454272               16.762500   \n",
       "2                37.045833          40.272606               15.353333   \n",
       "3                46.650417          34.739724               23.462917   \n",
       "4                43.321250          43.065957               21.050833   \n",
       "\n",
       "   daily_price_schweiz  daily_price_slowenien  daily_price_tschechien  \\\n",
       "0            32.077083              37.734167               32.905833   \n",
       "1            24.202500              28.686667               25.392500   \n",
       "2            26.726667              43.868750               27.514167   \n",
       "3            29.455833              37.598333               29.890417   \n",
       "4            29.855000              33.243333               30.061667   \n",
       "\n",
       "   daily_price_ungarn  daily_price_österreich  \\\n",
       "0           39.271250               48.781522   \n",
       "1           41.874583               48.781522   \n",
       "2           40.420833               48.781522   \n",
       "3           34.675417               48.781522   \n",
       "4           34.020417               48.781522   \n",
       "\n",
       "   daily_price_deutschland/österreich/luxemburg  \n",
       "0                                     31.438333  \n",
       "1                                     22.030000  \n",
       "2                                     27.750000  \n",
       "3                                     28.929167  \n",
       "4                                     29.611667  "
      ]
     },
     "execution_count": 34,
     "metadata": {},
     "output_type": "execute_result"
    }
   ],
   "source": [
    "df_price_aggregated.head()"
   ]
  },
  {
   "cell_type": "markdown",
   "metadata": {},
   "source": [
    "---"
   ]
  },
  {
   "cell_type": "markdown",
   "metadata": {},
   "source": [
    "# Realisierter Stromverbrauch"
   ]
  },
  {
   "cell_type": "code",
   "execution_count": 43,
   "metadata": {},
   "outputs": [
    {
     "name": "stdout",
     "output_type": "stream",
     "text": [
      "Import File: DE_Realisierter Stromverbrauch_201506010000_201706012345_1.csv \n",
      "Import File: DE_Realisierter Stromverbrauch_201706010000_201906012345_1.csv \n"
     ]
    }
   ],
   "source": [
    "import_files = os.listdir(\"data/Stromverbrauch_real/\")\n",
    "\n",
    "for idx , file in enumerate(import_files):\n",
    "    print(\"Import File: {} \".format(file))\n",
    "    PATH = \"data/Stromverbrauch_real/\" + file\n",
    "    \n",
    "    if idx>0:\n",
    "        df2 = pd.read_csv(PATH,\n",
    "            sep=r\";\",\n",
    "            decimal=r\",\",\n",
    "            thousands=r\".\",\n",
    "            converters = convert_thousand,\n",
    "            parse_dates=['Datum'],\n",
    "            date_parser = dateparse )\n",
    "        df_consumption = df_consumption.append(df2)\n",
    "    else:\n",
    "        df_consumption = pd.read_csv(PATH,\n",
    "            sep=r\";\",\n",
    "            decimal=r\",\",\n",
    "            thousands=r\".\",\n",
    "            converters = convert_thousand,\n",
    "            parse_dates=['Datum'],\n",
    "            date_parser = dateparse)\n",
    "\n",
    "del df2"
   ]
  },
  {
   "cell_type": "code",
   "execution_count": 52,
   "metadata": {},
   "outputs": [],
   "source": [
    "df_consumption = df_consumption.groupby(\"Datum\").sum()\n",
    "df_consumption.columns = [\"daily_consumption_ger\"]\n",
    "\n",
    "df_consumption.dropna(inplace=True)\n",
    "df_consumption['Tag'] = df_consumption.index\n",
    "\n",
    "cols = list(df_consumption)\n",
    "cols.insert(0, cols.pop(cols.index('Tag')))\n",
    "df_consumption = df_consumption.loc[:, cols]\n",
    "\n",
    "df_consumption.reset_index(drop=True,inplace=True)"
   ]
  },
  {
   "cell_type": "code",
   "execution_count": 53,
   "metadata": {
    "scrolled": true
   },
   "outputs": [
    {
     "data": {
      "text/html": [
       "<div>\n",
       "<style scoped>\n",
       "    .dataframe tbody tr th:only-of-type {\n",
       "        vertical-align: middle;\n",
       "    }\n",
       "\n",
       "    .dataframe tbody tr th {\n",
       "        vertical-align: top;\n",
       "    }\n",
       "\n",
       "    .dataframe thead th {\n",
       "        text-align: right;\n",
       "    }\n",
       "</style>\n",
       "<table border=\"1\" class=\"dataframe\">\n",
       "  <thead>\n",
       "    <tr style=\"text-align: right;\">\n",
       "      <th></th>\n",
       "      <th>Tag</th>\n",
       "      <th>daily_consumption_ger</th>\n",
       "    </tr>\n",
       "  </thead>\n",
       "  <tbody>\n",
       "    <tr>\n",
       "      <th>0</th>\n",
       "      <td>2015-06-01</td>\n",
       "      <td>1284069.00</td>\n",
       "    </tr>\n",
       "    <tr>\n",
       "      <th>1</th>\n",
       "      <td>2015-06-02</td>\n",
       "      <td>1365352.75</td>\n",
       "    </tr>\n",
       "    <tr>\n",
       "      <th>2</th>\n",
       "      <td>2015-06-03</td>\n",
       "      <td>1339142.50</td>\n",
       "    </tr>\n",
       "    <tr>\n",
       "      <th>3</th>\n",
       "      <td>2015-06-04</td>\n",
       "      <td>1104016.75</td>\n",
       "    </tr>\n",
       "    <tr>\n",
       "      <th>4</th>\n",
       "      <td>2015-06-05</td>\n",
       "      <td>1212480.00</td>\n",
       "    </tr>\n",
       "  </tbody>\n",
       "</table>\n",
       "</div>"
      ],
      "text/plain": [
       "         Tag  daily_consumption_ger\n",
       "0 2015-06-01             1284069.00\n",
       "1 2015-06-02             1365352.75\n",
       "2 2015-06-03             1339142.50\n",
       "3 2015-06-04             1104016.75\n",
       "4 2015-06-05             1212480.00"
      ]
     },
     "execution_count": 53,
     "metadata": {},
     "output_type": "execute_result"
    }
   ],
   "source": [
    "df_consumption.head()"
   ]
  },
  {
   "cell_type": "markdown",
   "metadata": {},
   "source": [
    "---"
   ]
  },
  {
   "cell_type": "markdown",
   "metadata": {},
   "source": [
    "# Merge Preis und Tagesverbrauch"
   ]
  },
  {
   "cell_type": "code",
   "execution_count": 57,
   "metadata": {},
   "outputs": [
    {
     "name": "stdout",
     "output_type": "stream",
     "text": [
      "Import File: DE_Physikalischer_Stromfluss_201506010000_201706012359_1.csv \n",
      "Import File: DE_Physikalischer_Stromfluss_201706020000_201906022359_1.csv \n",
      "Import File: DE_Großhandelspreise_201706010000_201906012359_1.csv \n",
      "Import File: DE_Großhandelspreise_201506010000_201706012359_1.csv \n",
      "Import File: DE_Realisierter Stromverbrauch_201506010000_201706012345_1.csv \n",
      "Import File: DE_Realisierter Stromverbrauch_201706010000_201906012345_1.csv \n"
     ]
    }
   ],
   "source": [
    "df_stromfluesse = prepare_stromfluesse(\"data/Stromfluss//\")\n",
    "df_price = prepare_strompreise(\"data/Strompreise/\")\n",
    "df_consumption = prepare_konsum_ger(\"data/Stromverbrauch_real/\")"
   ]
  },
  {
   "cell_type": "markdown",
   "metadata": {},
   "source": [
    "---"
   ]
  },
  {
   "cell_type": "code",
   "execution_count": 75,
   "metadata": {},
   "outputs": [],
   "source": [
    "def enrich_daily_information(df_price,df_consumption):\n",
    "    \n",
    "    df_daily_information = df_consumption.merge(df_price_aggregated,on='Tag')\n",
    "    cols = [\"prev_day\" + col[5::] for col in df_daily_information.columns[1::]]\n",
    "    cols.insert(0,'Tag')\n",
    "    df_daily_information.columns = cols\n",
    "    # Shift\n",
    "    day_shift = 1 \n",
    "    df_daily_information.iloc[:,1::] = df_daily_information.iloc[:,1::].shift(day_shift)\n",
    "    df_daily_information.dropna(inplace=True)\n",
    "    \n",
    "    # Zusätliche Tagesinformationen\n",
    "    df_daily_information['time_diff_days'] = (df_daily_information['Tag'] - pd.Timestamp(df_daily_information['Tag'].min())).dt.days\n",
    "\n",
    "    df_daily_information['day_of_week'] = df_daily_information['Tag'].dt.day_name()\n",
    "    df_daily_information = pd.concat([df_daily_information, pd.get_dummies(df_daily_information['day_of_week'])], axis=1)      \n",
    "    df_daily_information.drop(['day_of_week'], inplace=True, axis=1)\n",
    "\n",
    "    df_daily_information['month'] = df_daily_information['Tag'].dt.month\n",
    "    df_daily_information = pd.concat([df_daily_information, pd.get_dummies(df_daily_information['month'])], axis=1)      \n",
    "    df_daily_information.drop(['month'], inplace=True, axis=1)\n",
    "    \n",
    "    return df_daily_information"
   ]
  },
  {
   "cell_type": "code",
   "execution_count": 76,
   "metadata": {},
   "outputs": [],
   "source": [
    "df_daily_information = enrich_daily_information(df_price,df_consumption)"
   ]
  },
  {
   "cell_type": "code",
   "execution_count": 78,
   "metadata": {},
   "outputs": [
    {
     "data": {
      "text/html": [
       "<div>\n",
       "<style scoped>\n",
       "    .dataframe tbody tr th:only-of-type {\n",
       "        vertical-align: middle;\n",
       "    }\n",
       "\n",
       "    .dataframe tbody tr th {\n",
       "        vertical-align: top;\n",
       "    }\n",
       "\n",
       "    .dataframe thead th {\n",
       "        text-align: right;\n",
       "    }\n",
       "</style>\n",
       "<table border=\"1\" class=\"dataframe\">\n",
       "  <thead>\n",
       "    <tr style=\"text-align: right;\">\n",
       "      <th></th>\n",
       "      <th>Tag</th>\n",
       "      <th>daily_consumption_ger</th>\n",
       "      <th>daily_price_deutschland/luxemburg</th>\n",
       "      <th>daily_price_dänemark 1</th>\n",
       "      <th>daily_price_dänemark 2</th>\n",
       "      <th>daily_price_frankreich</th>\n",
       "      <th>daily_price_italien (nord)</th>\n",
       "      <th>daily_price_niederlande</th>\n",
       "      <th>daily_price_polen</th>\n",
       "      <th>daily_price_schweden 4</th>\n",
       "      <th>...</th>\n",
       "      <th>3</th>\n",
       "      <th>4</th>\n",
       "      <th>5</th>\n",
       "      <th>6</th>\n",
       "      <th>7</th>\n",
       "      <th>8</th>\n",
       "      <th>9</th>\n",
       "      <th>10</th>\n",
       "      <th>11</th>\n",
       "      <th>12</th>\n",
       "    </tr>\n",
       "  </thead>\n",
       "  <tbody>\n",
       "    <tr>\n",
       "      <th>1</th>\n",
       "      <td>2015-06-02</td>\n",
       "      <td>1284069.00</td>\n",
       "      <td>44.390017</td>\n",
       "      <td>20.788750</td>\n",
       "      <td>30.169583</td>\n",
       "      <td>30.997500</td>\n",
       "      <td>49.521667</td>\n",
       "      <td>42.491250</td>\n",
       "      <td>39.270939</td>\n",
       "      <td>30.169583</td>\n",
       "      <td>...</td>\n",
       "      <td>0</td>\n",
       "      <td>0</td>\n",
       "      <td>0</td>\n",
       "      <td>1</td>\n",
       "      <td>0</td>\n",
       "      <td>0</td>\n",
       "      <td>0</td>\n",
       "      <td>0</td>\n",
       "      <td>0</td>\n",
       "      <td>0</td>\n",
       "    </tr>\n",
       "    <tr>\n",
       "      <th>2</th>\n",
       "      <td>2015-06-03</td>\n",
       "      <td>1365352.75</td>\n",
       "      <td>44.390017</td>\n",
       "      <td>16.130417</td>\n",
       "      <td>16.762500</td>\n",
       "      <td>24.302083</td>\n",
       "      <td>43.613333</td>\n",
       "      <td>33.039583</td>\n",
       "      <td>40.454272</td>\n",
       "      <td>16.762500</td>\n",
       "      <td>...</td>\n",
       "      <td>0</td>\n",
       "      <td>0</td>\n",
       "      <td>0</td>\n",
       "      <td>1</td>\n",
       "      <td>0</td>\n",
       "      <td>0</td>\n",
       "      <td>0</td>\n",
       "      <td>0</td>\n",
       "      <td>0</td>\n",
       "      <td>0</td>\n",
       "    </tr>\n",
       "    <tr>\n",
       "      <th>3</th>\n",
       "      <td>2015-06-04</td>\n",
       "      <td>1339142.50</td>\n",
       "      <td>44.390017</td>\n",
       "      <td>15.313750</td>\n",
       "      <td>15.353333</td>\n",
       "      <td>30.330000</td>\n",
       "      <td>52.009167</td>\n",
       "      <td>37.045833</td>\n",
       "      <td>40.272606</td>\n",
       "      <td>15.353333</td>\n",
       "      <td>...</td>\n",
       "      <td>0</td>\n",
       "      <td>0</td>\n",
       "      <td>0</td>\n",
       "      <td>1</td>\n",
       "      <td>0</td>\n",
       "      <td>0</td>\n",
       "      <td>0</td>\n",
       "      <td>0</td>\n",
       "      <td>0</td>\n",
       "      <td>0</td>\n",
       "    </tr>\n",
       "    <tr>\n",
       "      <th>4</th>\n",
       "      <td>2015-06-05</td>\n",
       "      <td>1104016.75</td>\n",
       "      <td>44.390017</td>\n",
       "      <td>22.298750</td>\n",
       "      <td>23.852917</td>\n",
       "      <td>31.705833</td>\n",
       "      <td>54.611667</td>\n",
       "      <td>46.650417</td>\n",
       "      <td>34.739724</td>\n",
       "      <td>23.462917</td>\n",
       "      <td>...</td>\n",
       "      <td>0</td>\n",
       "      <td>0</td>\n",
       "      <td>0</td>\n",
       "      <td>1</td>\n",
       "      <td>0</td>\n",
       "      <td>0</td>\n",
       "      <td>0</td>\n",
       "      <td>0</td>\n",
       "      <td>0</td>\n",
       "      <td>0</td>\n",
       "    </tr>\n",
       "    <tr>\n",
       "      <th>5</th>\n",
       "      <td>2015-06-06</td>\n",
       "      <td>1212480.00</td>\n",
       "      <td>44.390017</td>\n",
       "      <td>17.689583</td>\n",
       "      <td>21.050833</td>\n",
       "      <td>39.059583</td>\n",
       "      <td>51.943333</td>\n",
       "      <td>43.321250</td>\n",
       "      <td>43.065957</td>\n",
       "      <td>21.050833</td>\n",
       "      <td>...</td>\n",
       "      <td>0</td>\n",
       "      <td>0</td>\n",
       "      <td>0</td>\n",
       "      <td>1</td>\n",
       "      <td>0</td>\n",
       "      <td>0</td>\n",
       "      <td>0</td>\n",
       "      <td>0</td>\n",
       "      <td>0</td>\n",
       "      <td>0</td>\n",
       "    </tr>\n",
       "  </tbody>\n",
       "</table>\n",
       "<p>5 rows × 36 columns</p>\n",
       "</div>"
      ],
      "text/plain": [
       "         Tag  daily_consumption_ger  daily_price_deutschland/luxemburg  \\\n",
       "1 2015-06-02             1284069.00                          44.390017   \n",
       "2 2015-06-03             1365352.75                          44.390017   \n",
       "3 2015-06-04             1339142.50                          44.390017   \n",
       "4 2015-06-05             1104016.75                          44.390017   \n",
       "5 2015-06-06             1212480.00                          44.390017   \n",
       "\n",
       "   daily_price_dänemark 1  daily_price_dänemark 2  daily_price_frankreich  \\\n",
       "1               20.788750               30.169583               30.997500   \n",
       "2               16.130417               16.762500               24.302083   \n",
       "3               15.313750               15.353333               30.330000   \n",
       "4               22.298750               23.852917               31.705833   \n",
       "5               17.689583               21.050833               39.059583   \n",
       "\n",
       "   daily_price_italien (nord)  daily_price_niederlande  daily_price_polen  \\\n",
       "1                   49.521667                42.491250          39.270939   \n",
       "2                   43.613333                33.039583          40.454272   \n",
       "3                   52.009167                37.045833          40.272606   \n",
       "4                   54.611667                46.650417          34.739724   \n",
       "5                   51.943333                43.321250          43.065957   \n",
       "\n",
       "   daily_price_schweden 4  ...  3  4  5  6  7  8  9  10  11  12  \n",
       "1               30.169583  ...  0  0  0  1  0  0  0   0   0   0  \n",
       "2               16.762500  ...  0  0  0  1  0  0  0   0   0   0  \n",
       "3               15.353333  ...  0  0  0  1  0  0  0   0   0   0  \n",
       "4               23.462917  ...  0  0  0  1  0  0  0   0   0   0  \n",
       "5               21.050833  ...  0  0  0  1  0  0  0   0   0   0  \n",
       "\n",
       "[5 rows x 36 columns]"
      ]
     },
     "execution_count": 78,
     "metadata": {},
     "output_type": "execute_result"
    }
   ],
   "source": [
    "df_daily_information.head()"
   ]
  },
  {
   "cell_type": "markdown",
   "metadata": {},
   "source": [
    "## Daily Informations"
   ]
  },
  {
   "cell_type": "code",
   "execution_count": 71,
   "metadata": {},
   "outputs": [],
   "source": [
    "df_daily_information = df_consumption.merge(df_price_aggregated,on='Tag')\n"
   ]
  },
  {
   "cell_type": "code",
   "execution_count": null,
   "metadata": {},
   "outputs": [],
   "source": [
    "cols = [\"prev_day\" + col[5::] for col in df_daily_information.columns[1::]]\n",
    "cols.insert(0,'Tag')\n",
    "df_daily_information.columns = cols"
   ]
  },
  {
   "cell_type": "code",
   "execution_count": 221,
   "metadata": {},
   "outputs": [],
   "source": [
    "# Shift\n",
    "day_shift = 1 \n",
    "df_daily_information.iloc[:,1::] = df_daily_information.iloc[:,1::].shift(day_shift)\n",
    "df_daily_information.dropna(inplace=True)"
   ]
  },
  {
   "cell_type": "code",
   "execution_count": 74,
   "metadata": {},
   "outputs": [],
   "source": [
    "# Zusätliche Tagesinformationen\n",
    "df_daily_information['time_diff_days'] = (df_daily_information['Tag'] - pd.Timestamp(df_daily_information['Tag'].min())).dt.days\n",
    "\n",
    "df_daily_information['day_of_week'] = df_daily_information['Tag'].dt.day_name()\n",
    "df_daily_information = pd.concat([df_daily_information, pd.get_dummies(df_daily_information['day_of_week'])], axis=1)      \n",
    "df_daily_information.drop(['day_of_week'], inplace=True, axis=1)\n",
    "\n",
    "df_daily_information['month'] = df_daily_information['Tag'].dt.month\n",
    "df_daily_information = pd.concat([df_daily_information, pd.get_dummies(df_daily_information['month'])], axis=1)      \n",
    "df_daily_information.drop(['month'], inplace=True, axis=1)"
   ]
  },
  {
   "cell_type": "markdown",
   "metadata": {},
   "source": [
    "---"
   ]
  },
  {
   "cell_type": "markdown",
   "metadata": {},
   "source": [
    "---"
   ]
  },
  {
   "cell_type": "markdown",
   "metadata": {},
   "source": [
    "# Merge Tagesinformationen mit NX"
   ]
  },
  {
   "cell_type": "code",
   "execution_count": 239,
   "metadata": {},
   "outputs": [],
   "source": [
    "df = df.merge(df_aggregated,on=\"Tag\")"
   ]
  },
  {
   "cell_type": "code",
   "execution_count": 241,
   "metadata": {},
   "outputs": [],
   "source": [
    "df.to_csv(\"data/data_preprocessed.csv\",sep=\";\")"
   ]
  },
  {
   "cell_type": "code",
   "execution_count": null,
   "metadata": {},
   "outputs": [],
   "source": []
  }
 ],
 "metadata": {
  "kernelspec": {
   "display_name": "Python 3",
   "language": "python",
   "name": "python3"
  },
  "language_info": {
   "codemirror_mode": {
    "name": "ipython",
    "version": 3
   },
   "file_extension": ".py",
   "mimetype": "text/x-python",
   "name": "python",
   "nbconvert_exporter": "python",
   "pygments_lexer": "ipython3",
   "version": "3.7.0"
  }
 },
 "nbformat": 4,
 "nbformat_minor": 2
}
