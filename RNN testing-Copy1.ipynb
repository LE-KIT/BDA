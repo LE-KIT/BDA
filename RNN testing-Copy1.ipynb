{
 "cells": [
  {
   "cell_type": "code",
   "execution_count": 1,
   "metadata": {},
   "outputs": [],
   "source": [
    "from scripts import preprocessing_old\n",
    "from scripts import predict_stromfluss\n",
    "from scripts import preprocessing_weatherdata\n",
    "from scripts import preprocessing_plannedProduction\n",
    "from scripts import preprocessing_trade_price_consumption\n",
    "from bda import bda_utilities\n",
    "import pandas as pd\n",
    "import numpy as np\n",
    "import os.path"
   ]
  },
  {
   "cell_type": "markdown",
   "metadata": {},
   "source": [
    "## Preprocessing"
   ]
  },
  {
   "cell_type": "markdown",
   "metadata": {},
   "source": [
    "Load and format power flow."
   ]
  },
  {
   "cell_type": "code",
   "execution_count": 2,
   "metadata": {},
   "outputs": [],
   "source": [
    "df = predict_stromfluss.read_data_stromfluss('./data/stromfluss')\n",
    "df = predict_stromfluss.preprocessing_stromfluss(df)"
   ]
  },
  {
   "cell_type": "code",
   "execution_count": 3,
   "metadata": {},
   "outputs": [],
   "source": [
    "def create_net_columns(df):\n",
    "    countries = [\"NL\", \"CHE\", \"DNK\", \"CZE\", \"LUX\", \"SWE\", \"AUT\", \"FRA\", \"PL\"]\n",
    "    for country in countries:\n",
    "        im_key = country + \"_IM\"\n",
    "        ex_key = country + \"_EX\"\n",
    "        df[country]=df[im_key] +df[ex_key]\n",
    "        df = df.drop(columns=[im_key,ex_key])\n",
    "    return df\n"
   ]
  },
  {
   "cell_type": "code",
   "execution_count": 4,
   "metadata": {},
   "outputs": [],
   "source": [
    "df = create_net_columns(df)\n",
    "df = df.rename(columns={\"Date\":\"date\"})\n"
   ]
  },
  {
   "cell_type": "markdown",
   "metadata": {},
   "source": [
    "Load and format weather data. "
   ]
  },
  {
   "cell_type": "code",
   "execution_count": 5,
   "metadata": {},
   "outputs": [
    {
     "data": {
      "text/html": [
       "<div>\n",
       "<style scoped>\n",
       "    .dataframe tbody tr th:only-of-type {\n",
       "        vertical-align: middle;\n",
       "    }\n",
       "\n",
       "    .dataframe tbody tr th {\n",
       "        vertical-align: top;\n",
       "    }\n",
       "\n",
       "    .dataframe thead th {\n",
       "        text-align: right;\n",
       "    }\n",
       "</style>\n",
       "<table border=\"1\" class=\"dataframe\">\n",
       "  <thead>\n",
       "    <tr style=\"text-align: right;\">\n",
       "      <th></th>\n",
       "      <th>date</th>\n",
       "      <th>DE_av_windspeed_ms_north</th>\n",
       "      <th>DE_percip_mm_north</th>\n",
       "      <th>DE_sun_hrs_north</th>\n",
       "      <th>DE_av_windspeed_ms_south</th>\n",
       "      <th>DE_percip_mm_south</th>\n",
       "      <th>DE_sun_hrs_south</th>\n",
       "      <th>DK_sun_hrs</th>\n",
       "      <th>DK_av_windSpeed_ms</th>\n",
       "      <th>CZ_av_temperatureChange</th>\n",
       "      <th>CZ_av_windSpeed</th>\n",
       "      <th>FR_av_temperatureChange</th>\n",
       "      <th>FR_av_windSpeed</th>\n",
       "    </tr>\n",
       "  </thead>\n",
       "  <tbody>\n",
       "    <tr>\n",
       "      <th>48942</th>\n",
       "      <td>2015-01-01</td>\n",
       "      <td>7.336364</td>\n",
       "      <td>-112.171429</td>\n",
       "      <td>2.980412</td>\n",
       "      <td>2.880556</td>\n",
       "      <td>0.065789</td>\n",
       "      <td>2.053026</td>\n",
       "      <td>0.0</td>\n",
       "      <td>8.4</td>\n",
       "      <td>NaN</td>\n",
       "      <td>NaN</td>\n",
       "      <td>NaN</td>\n",
       "      <td>NaN</td>\n",
       "    </tr>\n",
       "    <tr>\n",
       "      <th>48943</th>\n",
       "      <td>2015-01-02</td>\n",
       "      <td>10.930303</td>\n",
       "      <td>-112.431429</td>\n",
       "      <td>0.984794</td>\n",
       "      <td>5.925714</td>\n",
       "      <td>3.997368</td>\n",
       "      <td>0.451316</td>\n",
       "      <td>2.0</td>\n",
       "      <td>12.0</td>\n",
       "      <td>NaN</td>\n",
       "      <td>NaN</td>\n",
       "      <td>NaN</td>\n",
       "      <td>NaN</td>\n",
       "    </tr>\n",
       "    <tr>\n",
       "      <th>48944</th>\n",
       "      <td>2015-01-03</td>\n",
       "      <td>8.972727</td>\n",
       "      <td>-111.354286</td>\n",
       "      <td>0.045118</td>\n",
       "      <td>4.957143</td>\n",
       "      <td>14.647368</td>\n",
       "      <td>0.111895</td>\n",
       "      <td>2.5</td>\n",
       "      <td>8.2</td>\n",
       "      <td>NaN</td>\n",
       "      <td>NaN</td>\n",
       "      <td>NaN</td>\n",
       "      <td>NaN</td>\n",
       "    </tr>\n",
       "    <tr>\n",
       "      <th>48945</th>\n",
       "      <td>2015-01-04</td>\n",
       "      <td>7.393939</td>\n",
       "      <td>-113.365714</td>\n",
       "      <td>3.463676</td>\n",
       "      <td>4.774286</td>\n",
       "      <td>1.015789</td>\n",
       "      <td>1.045184</td>\n",
       "      <td>5.2</td>\n",
       "      <td>6.0</td>\n",
       "      <td>NaN</td>\n",
       "      <td>NaN</td>\n",
       "      <td>NaN</td>\n",
       "      <td>NaN</td>\n",
       "    </tr>\n",
       "    <tr>\n",
       "      <th>48946</th>\n",
       "      <td>2015-01-05</td>\n",
       "      <td>5.606061</td>\n",
       "      <td>-113.351429</td>\n",
       "      <td>0.894176</td>\n",
       "      <td>3.035294</td>\n",
       "      <td>0.168421</td>\n",
       "      <td>4.415789</td>\n",
       "      <td>0.3</td>\n",
       "      <td>3.2</td>\n",
       "      <td>NaN</td>\n",
       "      <td>NaN</td>\n",
       "      <td>NaN</td>\n",
       "      <td>NaN</td>\n",
       "    </tr>\n",
       "  </tbody>\n",
       "</table>\n",
       "</div>"
      ],
      "text/plain": [
       "            date  DE_av_windspeed_ms_north  DE_percip_mm_north  \\\n",
       "48942 2015-01-01                  7.336364         -112.171429   \n",
       "48943 2015-01-02                 10.930303         -112.431429   \n",
       "48944 2015-01-03                  8.972727         -111.354286   \n",
       "48945 2015-01-04                  7.393939         -113.365714   \n",
       "48946 2015-01-05                  5.606061         -113.351429   \n",
       "\n",
       "       DE_sun_hrs_north  DE_av_windspeed_ms_south  DE_percip_mm_south  \\\n",
       "48942          2.980412                  2.880556            0.065789   \n",
       "48943          0.984794                  5.925714            3.997368   \n",
       "48944          0.045118                  4.957143           14.647368   \n",
       "48945          3.463676                  4.774286            1.015789   \n",
       "48946          0.894176                  3.035294            0.168421   \n",
       "\n",
       "       DE_sun_hrs_south  DK_sun_hrs  DK_av_windSpeed_ms  \\\n",
       "48942          2.053026         0.0                 8.4   \n",
       "48943          0.451316         2.0                12.0   \n",
       "48944          0.111895         2.5                 8.2   \n",
       "48945          1.045184         5.2                 6.0   \n",
       "48946          4.415789         0.3                 3.2   \n",
       "\n",
       "       CZ_av_temperatureChange  CZ_av_windSpeed  FR_av_temperatureChange  \\\n",
       "48942                      NaN              NaN                      NaN   \n",
       "48943                      NaN              NaN                      NaN   \n",
       "48944                      NaN              NaN                      NaN   \n",
       "48945                      NaN              NaN                      NaN   \n",
       "48946                      NaN              NaN                      NaN   \n",
       "\n",
       "       FR_av_windSpeed  \n",
       "48942              NaN  \n",
       "48943              NaN  \n",
       "48944              NaN  \n",
       "48945              NaN  \n",
       "48946              NaN  "
      ]
     },
     "execution_count": 5,
     "metadata": {},
     "output_type": "execute_result"
    }
   ],
   "source": [
    "df_weather = preprocessing_weatherdata.import_weatherData()\n",
    "df_weather = df_weather[df_weather['date'].dt.year >= 2015]\n",
    "df_weather.head()"
   ]
  },
  {
   "cell_type": "code",
   "execution_count": 6,
   "metadata": {},
   "outputs": [],
   "source": [
    "#make hourly\n",
    "df_weather = bda_utilities.make_hourly(df_weather)"
   ]
  },
  {
   "cell_type": "code",
   "execution_count": 7,
   "metadata": {},
   "outputs": [],
   "source": [
    "# Weather data for CZ and FR only start in 2017, so we drop them\n",
    "df_weather.set_index(\"date\").iloc[:,8:].plot()\n",
    "df_weather = df_weather.drop(columns=df_weather.columns[8:])"
   ]
  },
  {
   "cell_type": "code",
   "execution_count": 8,
   "metadata": {},
   "outputs": [],
   "source": [
    "# Percipitation has probably no effect on power flow, so we drop those as well \n",
    "df_weather = df_weather.drop(columns=[col for col in df_weather.columns if \"percip\" in col])"
   ]
  },
  {
   "cell_type": "code",
   "execution_count": 9,
   "metadata": {},
   "outputs": [
    {
     "data": {
      "image/png": "[encoded data removed]",
      "text/plain": [
       "<Figure size 432x288 with 1 Axes>"
      ]
     },
     "metadata": {
      "needs_background": "light"
     },
     "output_type": "display_data"
    }
   ],
   "source": [
    "# DK sun hours has great portions of missing values, so we drop it . \n",
    "df_weather['DK_sun_hrs'].plot()\n",
    "df_weather = df_weather.drop(columns=['DK_sun_hrs'])"
   ]
  },
  {
   "cell_type": "markdown",
   "metadata": {},
   "source": [
    "Create a df containing a 24 lag for power flow values. "
   ]
  },
  {
   "cell_type": "code",
   "execution_count": 11,
   "metadata": {},
   "outputs": [],
   "source": [
    "df_24h_lag = df.copy()\n",
    "df_24h_lag.set_index(\"date\", inplace=True)\n",
    "df_24h_lag = df_24h_lag.shift(+24)\n",
    "\n",
    "def custom_column_mapper(df, append_str):\n",
    "    cols = df.columns\n",
    "    mapper = {}\n",
    "    for col in cols:\n",
    "        mapper[col]=col + append_str\n",
    "    return mapper\n",
    "\n",
    "df_24h_lag.rename(columns=custom_column_mapper(df_24h_lag, \"-24h\"), inplace=True)\n",
    "df_24h_lag.reset_index(inplace=True)"
   ]
  },
  {
   "cell_type": "markdown",
   "metadata": {},
   "source": [
    "Check other external information: trade, price, and consumption"
   ]
  },
  {
   "cell_type": "code",
   "execution_count": 12,
   "metadata": {},
   "outputs": [],
   "source": [
    "# All this data is only until 2017. Is there more recent data? \n",
    "# For now, don't include these in the master dataframe\n",
    "\n",
    "#df_consumption = preprocessing_trade_price_consumption.import_consumptionData()\n",
    "#df_consumption.plot()\n",
    "\n",
    "#df_price = preprocessing_trade_price_consumption.import_priceData()\n",
    "#df_price.set_index(\"date\").plot()\n",
    "\n",
    "#df_trade = preprocessing_trade_price_consumption.import_foreignTradeData()\n",
    "#df_trade.set_index(\"date\").plot()"
   ]
  },
  {
   "cell_type": "markdown",
   "metadata": {},
   "source": [
    "Make master dataframe containing all the information. "
   ]
  },
  {
   "cell_type": "code",
   "execution_count": 13,
   "metadata": {},
   "outputs": [],
   "source": [
    "df_master = df.copy()\n",
    "df_master = df_master.merge(df_24h_lag)\n",
    "df_master = df_master.merge(df_weather)\n",
    "\n",
    "# split up datetime information, keep date as index for easier manipulation\n",
    "df_master.set_index(['date'], append=True, inplace=True, drop=False)\n",
    "df_master = bda_utilities.split_datetime(df_master)\n"
   ]
  },
  {
   "cell_type": "code",
   "execution_count": 14,
   "metadata": {},
   "outputs": [],
   "source": [
    "# move datetime columns to the front for readibility\n",
    "\n",
    "# It is bugged, i don't know why \n",
    "def move_columns_to_front(df, front_column_names): \n",
    "    '''\n",
    "    Returns a list with reordered column names \n",
    "    '''\n",
    "    columns = list(df.columns)\n",
    "    for col in front_column_names:\n",
    "        if col not in columns:\n",
    "            front_column_names.remove(col) \n",
    "    for col in columns:\n",
    "        if col in front_column_names:\n",
    "            columns.remove(col)\n",
    "    result = front_column_names + columns\n",
    "    return result\n",
    "\n",
    "# Static hotfix\n",
    "def move_columns_to_front_static(df, front_column_names):\n",
    "    result = move_columns_to_front(df, front_column_names)\n",
    "    result.pop(-1)\n",
    "    result.pop(-1)\n",
    "    return result\n",
    "    \n",
    "\n",
    "column_order = move_columns_to_front_static(df_master, front_column_names=[\"year\",\"month\",\"weekday\",\"hour\",\"timestamp\"])\n",
    "df_master = df_master.loc[:,column_order]"
   ]
  },
  {
   "cell_type": "code",
   "execution_count": 15,
   "metadata": {},
   "outputs": [],
   "source": [
    "# Save to data \n",
    "df_master.to_csv(\"./data/df_master.csv\")"
   ]
  },
  {
   "cell_type": "code",
   "execution_count": 16,
   "metadata": {},
   "outputs": [
    {
     "data": {
      "text/html": [
       "<div>\n",
       "<style scoped>\n",
       "    .dataframe tbody tr th:only-of-type {\n",
       "        vertical-align: middle;\n",
       "    }\n",
       "\n",
       "    .dataframe tbody tr th {\n",
       "        vertical-align: top;\n",
       "    }\n",
       "\n",
       "    .dataframe thead th {\n",
       "        text-align: right;\n",
       "    }\n",
       "</style>\n",
       "<table border=\"1\" class=\"dataframe\">\n",
       "  <thead>\n",
       "    <tr style=\"text-align: right;\">\n",
       "      <th></th>\n",
       "      <th></th>\n",
       "      <th>year</th>\n",
       "      <th>month</th>\n",
       "      <th>weekday</th>\n",
       "      <th>hour</th>\n",
       "      <th>timestamp</th>\n",
       "      <th>NX</th>\n",
       "      <th>NL</th>\n",
       "      <th>CHE</th>\n",
       "      <th>DNK</th>\n",
       "      <th>CZE</th>\n",
       "      <th>...</th>\n",
       "      <th>CZE-24h</th>\n",
       "      <th>LUX-24h</th>\n",
       "      <th>SWE-24h</th>\n",
       "      <th>AUT-24h</th>\n",
       "      <th>FRA-24h</th>\n",
       "      <th>PL-24h</th>\n",
       "      <th>DE_av_windspeed_ms_north</th>\n",
       "      <th>DE_sun_hrs_north</th>\n",
       "      <th>DE_av_windspeed_ms_south</th>\n",
       "      <th>DE_sun_hrs_south</th>\n",
       "    </tr>\n",
       "    <tr>\n",
       "      <th></th>\n",
       "      <th>date</th>\n",
       "      <th></th>\n",
       "      <th></th>\n",
       "      <th></th>\n",
       "      <th></th>\n",
       "      <th></th>\n",
       "      <th></th>\n",
       "      <th></th>\n",
       "      <th></th>\n",
       "      <th></th>\n",
       "      <th></th>\n",
       "      <th></th>\n",
       "      <th></th>\n",
       "      <th></th>\n",
       "      <th></th>\n",
       "      <th></th>\n",
       "      <th></th>\n",
       "      <th></th>\n",
       "      <th></th>\n",
       "      <th></th>\n",
       "      <th></th>\n",
       "      <th></th>\n",
       "    </tr>\n",
       "  </thead>\n",
       "  <tbody>\n",
       "    <tr>\n",
       "      <th>0</th>\n",
       "      <th>2015-06-01 00:00:00</th>\n",
       "      <td>2015</td>\n",
       "      <td>6</td>\n",
       "      <td>1</td>\n",
       "      <td>0</td>\n",
       "      <td>1.433117e+09</td>\n",
       "      <td>7279.0</td>\n",
       "      <td>3932.0</td>\n",
       "      <td>145.0</td>\n",
       "      <td>-272.0</td>\n",
       "      <td>554.0</td>\n",
       "      <td>...</td>\n",
       "      <td>NaN</td>\n",
       "      <td>NaN</td>\n",
       "      <td>NaN</td>\n",
       "      <td>NaN</td>\n",
       "      <td>NaN</td>\n",
       "      <td>NaN</td>\n",
       "      <td>4.535484</td>\n",
       "      <td>6.021697</td>\n",
       "      <td>3.65</td>\n",
       "      <td>3.698263</td>\n",
       "    </tr>\n",
       "    <tr>\n",
       "      <th>1</th>\n",
       "      <th>2015-06-01 01:00:00</th>\n",
       "      <td>2015</td>\n",
       "      <td>6</td>\n",
       "      <td>1</td>\n",
       "      <td>1</td>\n",
       "      <td>1.433120e+09</td>\n",
       "      <td>7167.0</td>\n",
       "      <td>4014.0</td>\n",
       "      <td>261.0</td>\n",
       "      <td>-141.0</td>\n",
       "      <td>469.0</td>\n",
       "      <td>...</td>\n",
       "      <td>NaN</td>\n",
       "      <td>NaN</td>\n",
       "      <td>NaN</td>\n",
       "      <td>NaN</td>\n",
       "      <td>NaN</td>\n",
       "      <td>NaN</td>\n",
       "      <td>4.535484</td>\n",
       "      <td>6.021697</td>\n",
       "      <td>3.65</td>\n",
       "      <td>3.698263</td>\n",
       "    </tr>\n",
       "    <tr>\n",
       "      <th>2</th>\n",
       "      <th>2015-06-01 02:00:00</th>\n",
       "      <td>2015</td>\n",
       "      <td>6</td>\n",
       "      <td>1</td>\n",
       "      <td>2</td>\n",
       "      <td>1.433124e+09</td>\n",
       "      <td>6667.0</td>\n",
       "      <td>3864.0</td>\n",
       "      <td>103.0</td>\n",
       "      <td>-326.0</td>\n",
       "      <td>422.0</td>\n",
       "      <td>...</td>\n",
       "      <td>NaN</td>\n",
       "      <td>NaN</td>\n",
       "      <td>NaN</td>\n",
       "      <td>NaN</td>\n",
       "      <td>NaN</td>\n",
       "      <td>NaN</td>\n",
       "      <td>4.535484</td>\n",
       "      <td>6.021697</td>\n",
       "      <td>3.65</td>\n",
       "      <td>3.698263</td>\n",
       "    </tr>\n",
       "    <tr>\n",
       "      <th>3</th>\n",
       "      <th>2015-06-01 03:00:00</th>\n",
       "      <td>2015</td>\n",
       "      <td>6</td>\n",
       "      <td>1</td>\n",
       "      <td>3</td>\n",
       "      <td>1.433128e+09</td>\n",
       "      <td>6413.0</td>\n",
       "      <td>4242.0</td>\n",
       "      <td>42.0</td>\n",
       "      <td>-262.0</td>\n",
       "      <td>235.0</td>\n",
       "      <td>...</td>\n",
       "      <td>NaN</td>\n",
       "      <td>NaN</td>\n",
       "      <td>NaN</td>\n",
       "      <td>NaN</td>\n",
       "      <td>NaN</td>\n",
       "      <td>NaN</td>\n",
       "      <td>4.535484</td>\n",
       "      <td>6.021697</td>\n",
       "      <td>3.65</td>\n",
       "      <td>3.698263</td>\n",
       "    </tr>\n",
       "    <tr>\n",
       "      <th>4</th>\n",
       "      <th>2015-06-01 04:00:00</th>\n",
       "      <td>2015</td>\n",
       "      <td>6</td>\n",
       "      <td>1</td>\n",
       "      <td>4</td>\n",
       "      <td>1.433131e+09</td>\n",
       "      <td>5347.0</td>\n",
       "      <td>4292.0</td>\n",
       "      <td>-127.0</td>\n",
       "      <td>-582.0</td>\n",
       "      <td>161.0</td>\n",
       "      <td>...</td>\n",
       "      <td>NaN</td>\n",
       "      <td>NaN</td>\n",
       "      <td>NaN</td>\n",
       "      <td>NaN</td>\n",
       "      <td>NaN</td>\n",
       "      <td>NaN</td>\n",
       "      <td>4.535484</td>\n",
       "      <td>6.021697</td>\n",
       "      <td>3.65</td>\n",
       "      <td>3.698263</td>\n",
       "    </tr>\n",
       "  </tbody>\n",
       "</table>\n",
       "<p>5 rows × 29 columns</p>\n",
       "</div>"
      ],
      "text/plain": [
       "                       year  month  weekday  hour     timestamp      NX  \\\n",
       "  date                                                                    \n",
       "0 2015-06-01 00:00:00  2015      6        1     0  1.433117e+09  7279.0   \n",
       "1 2015-06-01 01:00:00  2015      6        1     1  1.433120e+09  7167.0   \n",
       "2 2015-06-01 02:00:00  2015      6        1     2  1.433124e+09  6667.0   \n",
       "3 2015-06-01 03:00:00  2015      6        1     3  1.433128e+09  6413.0   \n",
       "4 2015-06-01 04:00:00  2015      6        1     4  1.433131e+09  5347.0   \n",
       "\n",
       "                           NL    CHE    DNK    CZE  ...  CZE-24h  LUX-24h  \\\n",
       "  date                                              ...                     \n",
       "0 2015-06-01 00:00:00  3932.0  145.0 -272.0  554.0  ...      NaN      NaN   \n",
       "1 2015-06-01 01:00:00  4014.0  261.0 -141.0  469.0  ...      NaN      NaN   \n",
       "2 2015-06-01 02:00:00  3864.0  103.0 -326.0  422.0  ...      NaN      NaN   \n",
       "3 2015-06-01 03:00:00  4242.0   42.0 -262.0  235.0  ...      NaN      NaN   \n",
       "4 2015-06-01 04:00:00  4292.0 -127.0 -582.0  161.0  ...      NaN      NaN   \n",
       "\n",
       "                       SWE-24h  AUT-24h  FRA-24h  PL-24h  \\\n",
       "  date                                                     \n",
       "0 2015-06-01 00:00:00      NaN      NaN      NaN     NaN   \n",
       "1 2015-06-01 01:00:00      NaN      NaN      NaN     NaN   \n",
       "2 2015-06-01 02:00:00      NaN      NaN      NaN     NaN   \n",
       "3 2015-06-01 03:00:00      NaN      NaN      NaN     NaN   \n",
       "4 2015-06-01 04:00:00      NaN      NaN      NaN     NaN   \n",
       "\n",
       "                       DE_av_windspeed_ms_north  DE_sun_hrs_north  \\\n",
       "  date                                                              \n",
       "0 2015-06-01 00:00:00                  4.535484          6.021697   \n",
       "1 2015-06-01 01:00:00                  4.535484          6.021697   \n",
       "2 2015-06-01 02:00:00                  4.535484          6.021697   \n",
       "3 2015-06-01 03:00:00                  4.535484          6.021697   \n",
       "4 2015-06-01 04:00:00                  4.535484          6.021697   \n",
       "\n",
       "                       DE_av_windspeed_ms_south  DE_sun_hrs_south  \n",
       "  date                                                             \n",
       "0 2015-06-01 00:00:00                      3.65          3.698263  \n",
       "1 2015-06-01 01:00:00                      3.65          3.698263  \n",
       "2 2015-06-01 02:00:00                      3.65          3.698263  \n",
       "3 2015-06-01 03:00:00                      3.65          3.698263  \n",
       "4 2015-06-01 04:00:00                      3.65          3.698263  \n",
       "\n",
       "[5 rows x 29 columns]"
      ]
     },
     "execution_count": 16,
     "metadata": {},
     "output_type": "execute_result"
    }
   ],
   "source": [
    "df_test = pd.read_csv(\"./data/df_master.csv\", index_col=[0,1])\n",
    "df_test.head()"
   ]
  },
  {
   "cell_type": "code",
   "execution_count": 17,
   "metadata": {},
   "outputs": [],
   "source": [
    "#df.iloc[:,10]"
   ]
  },
  {
   "cell_type": "markdown",
   "metadata": {},
   "source": [
    "## Sequence Prediction with LTSM"
   ]
  },
  {
   "cell_type": "code",
   "execution_count": 118,
   "metadata": {},
   "outputs": [],
   "source": [
    "# Preprocessing master df for easier manipulation \n",
    "def make_target_columns_first(df):\n",
    "    cols = [col for col in df.columns]\n",
    "    country_codes = [\"NX\",\"NL\",\"CHE\",\"DNK\",\"CZE\",\"LUX\",\"SWE\",'AUT', \"FRA\", \"PL\"]\n",
    "    cols = country_codes + cols\n",
    "    cols = list(dict.fromkeys(cols))\n",
    "    return cols\n",
    "\n",
    "new_column_order = make_target_columns_first(df_master)\n",
    "df = df_master[new_column_order].copy()\n",
    "df.head()\n",
    "df_NL= df.drop(df.columns[[0,2,3,4,5,6,7,8,9]], axis=1)"
   ]
  },
  {
   "cell_type": "code",
   "execution_count": 106,
   "metadata": {},
   "outputs": [],
   "source": [
    "# There are data points missing / duplicated. We will drop those days. \n",
    "from datetime import timedelta\n",
    "\n",
    "def find_missing_rows(df):\n",
    "    last_timestamp = df.iloc[0].name[1]\n",
    "    index_list = []\n",
    "    for index, row in df.iterrows():       \n",
    "        current_timestamp = index[1]\n",
    "        if(current_timestamp != (last_timestamp + timedelta(hours=1))):\n",
    "            index_list.append(index[0])\n",
    "        last_timestamp = current_timestamp\n",
    "    index_list.remove(0)\n",
    "    return index_list\n",
    "\n",
    "def find_days_with_missing_hours(df):\n",
    "    index_list = find_missing_rows(df)\n",
    "    dates = []\n",
    "    for idx in index_list:\n",
    "        dates.append(df.iloc[idx].name[1].date())\n",
    "    dates = list(dict.fromkeys(dates))\n",
    "    return dates\n",
    "\n",
    "def get_delete_indices(df, missing_days):\n",
    "    delete_indices = []\n",
    "    for day in missing_days:\n",
    "        day = str(day)\n",
    "        idx = df.reset_index(level=0)[day][\"level_0\"].values\n",
    "        delete_indices.extend([x for x in idx])\n",
    "    return delete_indices\n",
    "\n"
   ]
  },
  {
   "cell_type": "code",
   "execution_count": 119,
   "metadata": {},
   "outputs": [
    {
     "name": "stdout",
     "output_type": "stream",
     "text": [
      "35120\n",
      "34920\n"
     ]
    }
   ],
   "source": [
    "print(len(df_NL))\n",
    "idxs = get_delete_indices(df_NL, find_days_with_missing_hours(df))\n",
    "df_NL.drop(index=idxs, inplace=True)\n",
    "print(len(df_NL))"
   ]
  },
  {
   "cell_type": "code",
   "execution_count": 120,
   "metadata": {},
   "outputs": [],
   "source": [
    "from sklearn.preprocessing import MinMaxScaler  \n",
    "\n",
    "def scale_dataframe(dataframe):\n",
    "    # load dataset\n",
    "    #dataset = dataframe.copy()\n",
    "    values = dataframe.values\n",
    "    # ensure all data is float\n",
    "    values = values.astype('float32')\n",
    "    # normalize features\n",
    "    scaler = MinMaxScaler(feature_range=(0, 1))\n",
    "    scaled = scaler.fit_transform(values)\n",
    "    # frame as supervised learning\n",
    "    \n",
    "    return (scaler, scaled )\n",
    "\n",
    "\n",
    "scaler, scaled = scale_dataframe(df_NL)\n"
   ]
  },
  {
   "cell_type": "code",
   "execution_count": 121,
   "metadata": {},
   "outputs": [
    {
     "data": {
      "text/plain": [
       "(34304,)"
      ]
     },
     "execution_count": 121,
     "metadata": {},
     "output_type": "execute_result"
    }
   ],
   "source": [
    "# split into train and test sets\n",
    "values = scaled\n",
    "\n",
    "# train until may until including april 2019 \n",
    "training_entries = len(df.reset_index(level=0, drop=True)[:'2019-04-30']) \n",
    "# Ignore first 24 entries, because we don't know the prior day values \n",
    "train = values[24:training_entries, :]\n",
    "test = values[training_entries:, :]\n",
    "train[:,0].shape"
   ]
  },
  {
   "cell_type": "code",
   "execution_count": 201,
   "metadata": {},
   "outputs": [
    {
     "name": "stdout",
     "output_type": "stream",
     "text": [
      "(34304, 1, 19) (34304, 1, 1) (592, 1, 19) (592, 1, 1)\n"
     ]
    }
   ],
   "source": [
    "# split into train and test sets\n",
    "values = scaled\n",
    "\n",
    "# train until may until including april 2019 \n",
    "training_entries = len(df.reset_index(level=0, drop=True)[:'2019-04-30']) \n",
    "# Ignore first 24 entries, because we don't know the prior day values \n",
    "train = values[24:training_entries, :]\n",
    "test = values[training_entries:, :]\n",
    "# split into input and outputs\n",
    "train_X, train_y = train[:, 1:], train[:, 0]\n",
    "test_X, test_y = test[:, 1:], test[:, 0]\n",
    "# reshape input to be 3D [samples, timesteps, features]\n",
    "train_X = train_X.reshape((train_X.shape[0] , 1, train_X.shape[1]))\n",
    "test_X = test_X.reshape((test_X.shape[0], 1, test_X.shape[1]))\n",
    "# reshape output to be 3D [samples, timesteps, features]\n",
    "#train_y = train_y.reshape((train_y.shape[0], 1, train_y.shape[1]))\n",
    "#test_y = test_y.reshape((test_y.shape[0], 1, test_y.shape[1]))\n",
    "\n",
    "#reshape output to be 3D for single feature dimension\n",
    "train_y = train_y.reshape((train_y.shape[0], 1, 1))\n",
    "test_y = test_y.reshape((test_y.shape[0], 1, 1))\n",
    "print(train_X.shape, train_y.shape, test_X.shape, test_y.shape)"
   ]
  },
  {
   "cell_type": "code",
   "execution_count": 123,
   "metadata": {},
   "outputs": [],
   "source": [
    "from keras.models import Sequential  \n",
    "from keras.layers import Dense  \n",
    "from keras.layers import LSTM  \n",
    "from keras.layers import Dropout \n",
    "from matplotlib import pyplot\n",
    "from pandas import concat\n",
    "from numpy import concatenate"
   ]
  },
  {
   "cell_type": "code",
   "execution_count": 199,
   "metadata": {},
   "outputs": [],
   "source": [
    "model = Sequential()  \n",
    "model.add(LSTM(units=120, return_sequences=True, input_shape=(train_X.shape[1], train_X.shape[2])))  \n",
    "model.add(Dropout(0.2))  \n",
    "model.add(LSTM(units=120, return_sequences=True)) \n",
    "model.add(Dropout(0.2)) \n",
    "model.add(Dense(units = 1))  \n",
    "model.compile(optimizer = 'adam', loss = 'mean_squared_error')  "
   ]
  },
  {
   "cell_type": "code",
   "execution_count": null,
   "metadata": {},
   "outputs": [
    {
     "name": "stdout",
     "output_type": "stream",
     "text": [
      "Train on 34304 samples, validate on 592 samples\n",
      "Epoch 1/50\n",
      " - 9s - loss: 0.0228 - val_loss: 0.0670\n",
      "Epoch 2/50\n",
      " - 4s - loss: 0.0108 - val_loss: 0.0584\n",
      "Epoch 3/50\n",
      " - 4s - loss: 0.0103 - val_loss: 0.0547\n",
      "Epoch 4/50\n",
      " - 4s - loss: 0.0099 - val_loss: 0.0533\n",
      "Epoch 5/50\n",
      " - 4s - loss: 0.0094 - val_loss: 0.0503\n",
      "Epoch 6/50\n",
      " - 4s - loss: 0.0091 - val_loss: 0.0479\n",
      "Epoch 7/50\n",
      " - 4s - loss: 0.0089 - val_loss: 0.0458\n",
      "Epoch 8/50\n"
     ]
    }
   ],
   "source": [
    "# fit network\n",
    "history = model.fit(train_X, train_y, epochs=50, batch_size=50, validation_data=(test_X, test_y), verbose=2, shuffle=False)\n",
    "# plot history\n",
    "pyplot.plot(history.history['loss'], label='train')\n",
    "pyplot.plot(history.history['val_loss'], label='test')\n",
    "pyplot.legend()\n",
    "pyplot.show()"
   ]
  },
  {
   "cell_type": "code",
   "execution_count": 193,
   "metadata": {},
   "outputs": [
    {
     "data": {
      "text/plain": [
       "(592, 1, 1)"
      ]
     },
     "execution_count": 193,
     "metadata": {},
     "output_type": "execute_result"
    }
   ],
   "source": [
    "yhat = model.predict(test_X)\n",
    "yhat.shape"
   ]
  },
  {
   "cell_type": "code",
   "execution_count": 194,
   "metadata": {},
   "outputs": [
    {
     "name": "stdout",
     "output_type": "stream",
     "text": [
      "(592, 1, 1)\n"
     ]
    }
   ],
   "source": [
    "test_X = test_X.reshape((test_X.shape[0] * test_X.shape[1], test_X.shape[2]))\n",
    "yhat = yhat.reshape((yhat.shape[0] * yhat.shape[1], yhat.shape[2]))\n",
    "\n",
    "inv_yhat = concatenate((yhat, test_X), axis=1)\n",
    "inv_yhat = scaler.inverse_transform(inv_yhat)\n",
    "# invert scaling for actual\n",
    "print(test_y.shape)\n",
    "#test_y = test_y.reshape(test_y.shape[0], 1)\n",
    "\n",
    "test_y = test_y.reshape((test_y.shape[0] * test_y.shape[1], test_y.shape[2]))\n",
    "inv_y = concatenate((test_y, test_X), axis=1)\n",
    "inv_y = scaler.inverse_transform(inv_y)\n",
    "\n",
    "\n"
   ]
  },
  {
   "cell_type": "code",
   "execution_count": 195,
   "metadata": {},
   "outputs": [
    {
     "data": {
      "text/plain": [
       "array([   63.000084,   788.00006 ,   806.0001  ,   353.00006 ,\n",
       "         224.9999  ,    65.00009 ,  -688.00006 , -1176.      ,\n",
       "        -838.00006 ,  -552.00006 ,  -663.0002  ,  -696.00006 ,\n",
       "        -404.0001  ,   -61.000072,   328.99994 ,  1194.0001  ,\n",
       "        1116.0002  ,   553.9998  ,   361.00012 ,    66.0001  ,\n",
       "          28.999884,   494.99976 ,  -138.99995 ,   659.9999  ,\n",
       "        1991.9996  ,  2634.9998  ,  2185.      ,  2156.      ,\n",
       "        2006.0004  ,  1915.0001  ,  1623.9998  ,  2050.9998  ,\n",
       "        1752.      ,  1439.9999  ,   945.9998  ,   733.99976 ,\n",
       "         616.9999  ,   775.00024 ,   839.00006 ,   706.0001  ,\n",
       "        1131.9998  ,  1568.      ,  1466.9998  ,  1037.9998  ,\n",
       "        1402.9999  ,  1323.      ,  1356.9996  ,  1153.0002  ,\n",
       "         918.99994 ,  1027.      ,  -134.99994 ,    93.99998 ,\n",
       "         217.00012 ,   168.00012 ,    75.99988 ,  -358.0001  ,\n",
       "         128.9999  ,   743.00006 ,  1625.0001  ,  2207.9998  ,\n",
       "        2309.      ,  2547.0002  ,  2834.9998  ,  2664.0002  ,\n",
       "        3256.0002  ,  3310.      ,  3408.      ,  3336.9998  ,\n",
       "        3167.9998  ,  3389.9998  ,  3469.      ,  2622.      ,\n",
       "        2778.0002  ,  2540.      ,  2309.      ,  2430.9998  ,\n",
       "        2477.9998  ,  2657.9995  ,  2411.9998  ,  2442.9998  ,\n",
       "        2335.0002  ,  2826.9998  ,  2802.0005  ,  3550.0002  ,\n",
       "        3604.      ,  3891.0002  ,  3542.0002  ,  3535.9995  ,\n",
       "        2249.0002  ,  2371.      ,  2538.      ,  2327.0002  ,\n",
       "        2526.      ,  2217.9998  ,   918.00024 ,   863.99994 ,\n",
       "         651.9998  ,  1207.9996  ,  1351.9999  ,  1186.9998  ,\n",
       "         892.9998  ,   975.0003  ,   759.0002  ,   704.9998  ,\n",
       "         614.0002  ,   143.99998 ,  -730.      , -1117.      ,\n",
       "       -1149.0001  ,  -815.99994 ,  -257.0001  ,   861.9999  ,\n",
       "         935.00006 ,    92.99998 ,  -307.0001  ,  -456.0001  ,\n",
       "        -885.00006 , -1341.9999  , -2590.      , -2322.      ,\n",
       "       -1906.      , -1490.9999  , -1450.9999  , -1790.9999  ,\n",
       "       -1582.0001  , -1418.      , -1366.      , -1756.      ,\n",
       "       -1699.      , -1253.9999  , -1555.      , -1866.9998  ,\n",
       "       -2109.      , -1935.9999  ,  -956.9999  ,  -446.00003 ,\n",
       "        -518.9999  , -1013.99994 , -1317.      , -1715.      ,\n",
       "       -1876.9999  , -2108.      , -2751.      , -2602.      ,\n",
       "       -1961.0001  , -1449.9999  , -1663.      , -1898.      ,\n",
       "       -1754.      , -1475.0001  , -1950.      , -2179.      ,\n",
       "       -1933.9999  , -2099.      , -2446.      , -2409.      ,\n",
       "       -2096.      , -2188.      , -1132.0001  ,  -308.0001  ,\n",
       "        -546.00006 ,  -407.0001  ,  -739.00006 ,  -892.00006 ,\n",
       "       -1149.9999  , -1202.9999  , -2276.      , -2476.      ,\n",
       "       -1753.      , -1816.0001  , -2884.      , -3541.      ,\n",
       "       -3654.      , -3897.      , -3266.      , -2942.      ,\n",
       "       -2632.      , -2604.      , -2476.      , -2681.      ,\n",
       "       -2015.9998  , -1578.9999  , -1128.      ,  -157.00006 ,\n",
       "       -1040.0001  , -1327.      , -1662.      , -1989.      ,\n",
       "       -2806.9998  , -2819.      , -3551.      , -2630.      ,\n",
       "       -2033.0002  ,  -983.00006 ,  -851.0001  ,  -657.9999  ,\n",
       "        -577.99994 ,  -616.9999  ,  -541.      ,  -533.      ,\n",
       "        -972.      , -1112.      , -1584.9999  , -1976.9999  ,\n",
       "       -1823.0001  , -1449.9999  ,  -532.      ,    29.999891,\n",
       "        1317.9998  ,  1788.0002  ,  1447.0002  ,   702.0001  ,\n",
       "         555.0001  ,   702.9998  ,   798.9998  ,   631.      ,\n",
       "         626.00024 ,  1390.0001  ,  1421.      ,  1643.9999  ,\n",
       "        1776.0001  ,  1635.0001  ,  1821.0001  ,  1590.0001  ,\n",
       "        1598.0002  ,  1658.      ,  1227.      ,  1261.0002  ,\n",
       "        1309.9996  ,  1868.9998  ,  2344.      ,  2438.      ,\n",
       "        2518.      ,  2488.0002  ,  1868.0001  ,  1308.0002  ,\n",
       "        1159.0002  ,  1121.9998  ,   653.0001  ,   622.99994 ,\n",
       "         596.99976 ,  1270.      ,  1441.9999  ,  1572.0001  ,\n",
       "        1864.0001  ,  1814.0004  ,  1713.      ,  1392.0001  ,\n",
       "        1204.0002  ,  1513.      ,  1431.0001  ,  1498.9999  ,\n",
       "        1841.9999  ,  2081.      ,  2289.9998  ,  2540.      ,\n",
       "        2726.      ,  1884.9999  ,  1155.9999  ,   775.00024 ,\n",
       "         267.00012 ,  -599.00006 , -2739.      , -1400.0002  ,\n",
       "       -1164.      ,  -820.99994 ,  -389.      ,  -514.9999  ,\n",
       "        -917.99994 , -1032.      ,  -804.9999  , -1090.0001  ,\n",
       "        -492.00003 ,  -325.9999  ,  -418.99988 ,  -539.      ,\n",
       "        -898.9998  ,  -706.0001  ,  -217.00012 ,   -49.      ,\n",
       "        -829.      , -1267.      , -1231.9998  , -1606.      ,\n",
       "       -1938.9999  , -1987.9999  , -2637.      , -1721.0001  ,\n",
       "       -1156.9999  ,  -569.99994 , -1541.0001  , -2068.      ,\n",
       "       -2400.      , -2603.      , -2549.      , -2559.0002  ,\n",
       "       -1725.0001  , -1364.      , -1737.9999  , -1469.      ,\n",
       "       -1211.      ,  -675.99994 ,   385.99997 ,  1257.0002  ,\n",
       "        1752.9998  ,  1292.9999  ,  1586.0001  ,  1482.0001  ,\n",
       "        1096.0001  ,   898.0001  ,   414.99985 ,   377.99994 ,\n",
       "        1317.9998  ,   865.99994 ,    35.999924,  -559.0001  ,\n",
       "        -826.      ,  -670.99994 ,  -197.00002 ,   148.00002 ,\n",
       "         502.99982 ,   325.9999  ,  -491.00003 ,  -649.00006 ,\n",
       "        -714.9999  ,  -699.0001  ,  -267.00012 ,  -798.0001  ,\n",
       "        -396.00003 , -1300.0002  , -1325.      , -1674.0001  ,\n",
       "       -1464.      , -1680.0001  , -2852.0002  , -2975.      ,\n",
       "       -1782.0001  , -1294.9999  ,  -892.00006 ,  -734.      ,\n",
       "        -949.9999  , -1202.0002  , -1186.0001  , -1132.0001  ,\n",
       "       -1943.      , -1649.      , -1876.0001  , -1676.0001  ,\n",
       "       -1727.0001  , -1476.0001  ,  -765.99994 , -1329.9998  ,\n",
       "       -1727.0001  , -2605.      , -2955.      , -2685.      ,\n",
       "       -2595.      , -2775.      , -3470.      , -2902.9998  ,\n",
       "       -1566.      , -1090.0001  ,  -983.00006 , -1404.      ,\n",
       "        -874.      ,  -893.00006 ,  -841.00006 , -1277.      ,\n",
       "       -1331.0001  , -1629.9999  , -2007.      , -2268.      ,\n",
       "       -2086.      , -1889.9999  ,  -806.0001  ,  -535.      ,\n",
       "         -10.000058,   549.9998  ,   305.00006 ,   316.99985 ,\n",
       "         246.00002 ,    28.999884,  -189.99997 ,  -136.99994 ,\n",
       "         371.9999  ,   851.9999  ,  1153.0002  ,   920.00024 ,\n",
       "         967.00024 ,   771.99994 ,   684.      ,   333.99997 ,\n",
       "         145.      ,   192.99998 ,  -229.99992 ,  -259.0001  ,\n",
       "         186.99995 ,   426.0002  ,  1073.0002  ,   971.00024 ,\n",
       "        1313.      ,  1790.9999  ,  1633.9999  ,  1233.0001  ,\n",
       "        1580.9999  ,  1799.9996  ,  1629.9999  ,  1478.0001  ,\n",
       "        1396.9999  ,  2027.9999  ,  2340.9998  ,  2385.      ,\n",
       "        2577.      ,  2199.9998  ,  1987.9996  ,  1690.9999  ,\n",
       "        1955.0004  ,  1550.      ,  1692.0002  ,  1566.      ,\n",
       "        2005.      ,  2293.      ,  2726.      ,  2436.      ,\n",
       "        1751.0002  ,  1184.9998  ,   586.      ,   424.9999  ,\n",
       "         402.00006 ,  -862.99994 , -2619.      , -3126.      ,\n",
       "       -3240.0002  , -2592.      , -2210.      , -1993.      ,\n",
       "       -1453.      , -2023.9999  , -2236.      , -2138.      ,\n",
       "       -2011.9998  , -2221.      , -2545.      , -2652.      ,\n",
       "       -2358.      , -2188.      , -1837.0002  , -1531.0001  ,\n",
       "       -1212.      , -1211.      , -1874.9999  , -1753.      ,\n",
       "       -1260.      , -2752.0002  , -4423.      , -4257.      ,\n",
       "       -3765.      , -2860.      , -2880.      , -3163.      ,\n",
       "       -3842.      , -3921.      , -4106.      , -3679.0002  ,\n",
       "       -4154.      , -3380.      , -3153.      , -2479.      ,\n",
       "       -2462.9998  , -2254.      , -1202.9999  ,  -299.00003 ,\n",
       "        -551.00006 ,  -440.      ,  -215.00012 ,  -431.99997 ,\n",
       "        -461.99985 , -1656.      , -3053.      , -3426.      ,\n",
       "       -2692.      , -2267.      , -2631.      , -2960.      ,\n",
       "       -2984.      , -2716.      , -2580.      , -2362.      ,\n",
       "       -2608.0002  , -2197.      , -2788.      , -2971.      ,\n",
       "       -2867.      , -3082.      , -2312.      ,  -148.00002 ,\n",
       "         967.00024 ,  1550.      ,  1211.9996  ,  1231.0001  ,\n",
       "         861.9999  ,   582.      ,  1178.9998  ,   969.00024 ,\n",
       "         992.0001  ,  1375.0004  ,  1674.9998  ,  1682.0001  ,\n",
       "        1717.9998  ,  1521.      ,  1325.      ,  1077.0004  ,\n",
       "         818.99994 ,  1070.9998  ,  1115.      ,   763.0002  ,\n",
       "         673.99994 ,   786.00006 ,  1084.9998  ,  1813.      ,\n",
       "        2111.      ,  2133.0002  ,  1727.0001  ,   947.9998  ,\n",
       "         898.9998  ,   226.99991 , -1149.9999  , -2152.      ,\n",
       "       -2116.      , -1876.9999  , -1486.0001  , -1522.      ,\n",
       "       -1172.      ,  -625.99994 ,  -482.99997 ,  -581.      ,\n",
       "       -1158.9999  , -1806.      , -2260.      , -2147.      ,\n",
       "       -2152.      , -2082.      , -1104.9999  ,  -477.99994 ,\n",
       "         100.000015,   412.00012 ,   808.0002  ,  1325.      ,\n",
       "        1339.9999  ,  1106.9999  ,  1223.9998  ,   735.      ,\n",
       "         843.9998  ,   972.      ,  1037.0001  ,  1237.9999  ,\n",
       "        1394.0001  ,  1390.0001  ,  1243.0001  ,  1321.      ,\n",
       "        1266.      ,   855.0001  ,   330.99994 ,  -329.99994 ,\n",
       "        -255.00006 ,   -99.00001 ,   451.9998  ,   914.0002  ,\n",
       "        1035.9998  ,  1010.99994 ,  1049.0001  ,   920.99994 ,\n",
       "         659.0001  ,   282.99994 ,  -359.0001  ,  -135.99994 ,\n",
       "         138.99995 ,   761.9999  ,  1449.0002  ,  1776.9999  ,\n",
       "        2209.      ,  2150.      ,  2211.9998  ,  1743.0002  ,\n",
       "        1435.0001  ,   300.00003 ,  -344.00003 ,   633.      ,\n",
       "         927.      ,  1445.9999  ,  2578.0002  ,  3132.      ],\n",
       "      dtype=float32)"
      ]
     },
     "execution_count": 195,
     "metadata": {},
     "output_type": "execute_result"
    }
   ],
   "source": [
    "inv_y[:,0]"
   ]
  },
  {
   "cell_type": "code",
   "execution_count": 196,
   "metadata": {},
   "outputs": [
    {
     "name": "stdout",
     "output_type": "stream",
     "text": [
      "Test RMSE: 1962.651\n"
     ]
    }
   ],
   "source": [
    "from math import sqrt\n",
    "from sklearn.metrics import mean_squared_error\n",
    "\n",
    "# calculate RMSE\n",
    "rmse = sqrt(mean_squared_error(inv_y[:,0], inv_yhat[:,0]))\n",
    "print('Test RMSE: %.3f' % rmse)"
   ]
  },
  {
   "cell_type": "code",
   "execution_count": 197,
   "metadata": {},
   "outputs": [],
   "source": [
    "plotting_df = pd.DataFrame({\"y\":inv_y[:,0],\"yhat\":inv_yhat[:,0]})"
   ]
  },
  {
   "cell_type": "code",
   "execution_count": 198,
   "metadata": {},
   "outputs": [
    {
     "data": {
      "text/plain": [
       "(-10000, 10000)"
      ]
     },
     "execution_count": 198,
     "metadata": {},
     "output_type": "execute_result"
    },
    {
     "data": {
      "image/png": "[encoded data removed]",
      "text/plain": [
       "<Figure size 432x288 with 1 Axes>"
      ]
     },
     "metadata": {
      "needs_background": "light"
     },
     "output_type": "display_data"
    }
   ],
   "source": [
    "ax = plotting_df.plot()\n",
    "ax.set_ylim(-10000,10000)"
   ]
  },
  {
   "cell_type": "code",
   "execution_count": null,
   "metadata": {},
   "outputs": [],
   "source": []
  }
 ],
 "metadata": {
  "kernelspec": {
   "display_name": "Python 3",
   "language": "python",
   "name": "python3"
  },
  "language_info": {
   "codemirror_mode": {
    "name": "ipython",
    "version": 3
   },
   "file_extension": ".py",
   "mimetype": "text/x-python",
   "name": "python",
   "nbconvert_exporter": "python",
   "pygments_lexer": "ipython3",
   "version": "3.6.8"
  }
 },
 "nbformat": 4,
 "nbformat_minor": 2
}
